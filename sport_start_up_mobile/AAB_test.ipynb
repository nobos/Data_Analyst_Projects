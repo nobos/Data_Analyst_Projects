{
 "cells": [
  {
   "cell_type": "markdown",
   "metadata": {},
   "source": [
    "### ПРОЕКТ Вы работаете в стартапе, который продаёт продукты питания. Нужно разобраться, как ведут себя пользователи вашего мобильного приложения.\n"
   ]
  },
  {
   "cell_type": "markdown",
   "metadata": {},
   "source": [
    "Описание данных:\n",
    "    <br>Каждая запись в логе — это действие пользователя, или событие.\n",
    "* EventName — название события;\n",
    "* DeviceIDHash — уникальный идентификатор пользователя;\n",
    "* EventTimestamp — время события;\n",
    "* ExpId — номер эксперимента: 246 и 247 — контрольные группы, а 248 — экспериментальная."
   ]
  },
  {
   "cell_type": "code",
   "execution_count": 4,
   "metadata": {},
   "outputs": [],
   "source": [
    "#загрузим нужные библиотеки\n",
    "\n",
    "import pandas as pd\n",
    "import numpy as np\n",
    "import matplotlib.pyplot as plt\n",
    "import seaborn as sns\n",
    "import plotly.express as px\n",
    "from scipy import stats as st\n",
    "import math as mth\n",
    "from statsmodels.stats.proportion import proportions_ztest"
   ]
  },
  {
   "cell_type": "markdown",
   "metadata": {},
   "source": [
    "#### Шаг 1. Откроем файл с данными и изучим общую информацию"
   ]
  },
  {
   "cell_type": "code",
   "execution_count": 5,
   "metadata": {},
   "outputs": [
    {
     "data": {
      "text/html": [
       "<div>\n",
       "<style scoped>\n",
       "    .dataframe tbody tr th:only-of-type {\n",
       "        vertical-align: middle;\n",
       "    }\n",
       "\n",
       "    .dataframe tbody tr th {\n",
       "        vertical-align: top;\n",
       "    }\n",
       "\n",
       "    .dataframe thead th {\n",
       "        text-align: right;\n",
       "    }\n",
       "</style>\n",
       "<table border=\"1\" class=\"dataframe\">\n",
       "  <thead>\n",
       "    <tr style=\"text-align: right;\">\n",
       "      <th></th>\n",
       "      <th>EventName</th>\n",
       "      <th>DeviceIDHash</th>\n",
       "      <th>EventTimestamp</th>\n",
       "      <th>ExpId</th>\n",
       "    </tr>\n",
       "  </thead>\n",
       "  <tbody>\n",
       "    <tr>\n",
       "      <th>193239</th>\n",
       "      <td>OffersScreenAppear</td>\n",
       "      <td>2783380201734445914</td>\n",
       "      <td>1565093832</td>\n",
       "      <td>246</td>\n",
       "    </tr>\n",
       "    <tr>\n",
       "      <th>95217</th>\n",
       "      <td>CartScreenAppear</td>\n",
       "      <td>4623191541214045580</td>\n",
       "      <td>1564842280</td>\n",
       "      <td>247</td>\n",
       "    </tr>\n",
       "    <tr>\n",
       "      <th>12757</th>\n",
       "      <td>MainScreenAppear</td>\n",
       "      <td>6326495816973010604</td>\n",
       "      <td>1564652779</td>\n",
       "      <td>247</td>\n",
       "    </tr>\n",
       "    <tr>\n",
       "      <th>70205</th>\n",
       "      <td>OffersScreenAppear</td>\n",
       "      <td>7586870289028771156</td>\n",
       "      <td>1564771791</td>\n",
       "      <td>247</td>\n",
       "    </tr>\n",
       "    <tr>\n",
       "      <th>242009</th>\n",
       "      <td>CartScreenAppear</td>\n",
       "      <td>5996739817823449506</td>\n",
       "      <td>1565205373</td>\n",
       "      <td>248</td>\n",
       "    </tr>\n",
       "  </tbody>\n",
       "</table>\n",
       "</div>"
      ],
      "text/plain": [
       "                 EventName         DeviceIDHash  EventTimestamp  ExpId\n",
       "193239  OffersScreenAppear  2783380201734445914      1565093832    246\n",
       "95217     CartScreenAppear  4623191541214045580      1564842280    247\n",
       "12757     MainScreenAppear  6326495816973010604      1564652779    247\n",
       "70205   OffersScreenAppear  7586870289028771156      1564771791    247\n",
       "242009    CartScreenAppear  5996739817823449506      1565205373    248"
      ]
     },
     "execution_count": 5,
     "metadata": {},
     "output_type": "execute_result"
    }
   ],
   "source": [
    "#загрузим данные\n",
    "\n",
    "log_exp = pd.read_csv('logs_exp.csv',sep='\\t')\n",
    "log_exp.sample(5)"
   ]
  },
  {
   "cell_type": "code",
   "execution_count": 6,
   "metadata": {},
   "outputs": [
    {
     "name": "stdout",
     "output_type": "stream",
     "text": [
      "<class 'pandas.core.frame.DataFrame'>\n",
      "RangeIndex: 244126 entries, 0 to 244125\n",
      "Data columns (total 4 columns):\n",
      " #   Column          Non-Null Count   Dtype \n",
      "---  ------          --------------   ----- \n",
      " 0   EventName       244126 non-null  object\n",
      " 1   DeviceIDHash    244126 non-null  int64 \n",
      " 2   EventTimestamp  244126 non-null  int64 \n",
      " 3   ExpId           244126 non-null  int64 \n",
      "dtypes: int64(3), object(1)\n",
      "memory usage: 7.5+ MB\n"
     ]
    }
   ],
   "source": [
    "log_exp.info()"
   ]
  },
  {
   "cell_type": "code",
   "execution_count": 7,
   "metadata": {},
   "outputs": [
    {
     "data": {
      "text/plain": [
       "array(['MainScreenAppear', 'PaymentScreenSuccessful', 'CartScreenAppear',\n",
       "       'OffersScreenAppear', 'Tutorial'], dtype=object)"
      ]
     },
     "execution_count": 7,
     "metadata": {},
     "output_type": "execute_result"
    }
   ],
   "source": [
    "# посмотрим какие есть события\n",
    "log_exp['EventName'].unique()"
   ]
  },
  {
   "cell_type": "code",
   "execution_count": 8,
   "metadata": {},
   "outputs": [
    {
     "data": {
      "text/plain": [
       "413"
      ]
     },
     "execution_count": 8,
     "metadata": {},
     "output_type": "execute_result"
    }
   ],
   "source": [
    "# проверим на дубликаты\n",
    "log_exp.duplicated().sum()"
   ]
  },
  {
   "cell_type": "code",
   "execution_count": 9,
   "metadata": {},
   "outputs": [],
   "source": [
    "#избавимся от 0,17% дублей\n",
    "log_exp = log_exp[log_exp.duplicated() == False].reset_index(drop=True)"
   ]
  },
  {
   "cell_type": "markdown",
   "metadata": {},
   "source": [
    "Вывод: похоже в данных нет пропусков, события представлены некоторой воронкой, а дата представлена в формате unix. Было немного дублей, но от них избавились"
   ]
  },
  {
   "cell_type": "markdown",
   "metadata": {},
   "source": [
    "#### Шаг 2. Подготовим данные\n"
   ]
  },
  {
   "cell_type": "code",
   "execution_count": 10,
   "metadata": {},
   "outputs": [],
   "source": [
    "#переименуем столбцы\n",
    "\n",
    "log_exp.columns = ['event','device_id','date_time','group']"
   ]
  },
  {
   "cell_type": "code",
   "execution_count": 11,
   "metadata": {},
   "outputs": [],
   "source": [
    "#пропусков ранее мы не выявили, а вот столбец с датой надо преобразовать\n",
    "log_exp['date_time'] = pd.to_datetime(log_exp['date_time'],unit='s')\n",
    "#добавим отдельно столбец только с датой\n",
    "log_exp['date'] = log_exp['date_time'].dt.date"
   ]
  },
  {
   "cell_type": "markdown",
   "metadata": {},
   "source": [
    "#### Шаг 3. Изучим и проверим данные\n"
   ]
  },
  {
   "cell_type": "code",
   "execution_count": 12,
   "metadata": {},
   "outputs": [
    {
     "name": "stdout",
     "output_type": "stream",
     "text": [
      "Событий в логе: 243713\n",
      "Уникальных пользователей: 7551\n",
      "Среднее число событий на пользователя: 32.27559263673685\n"
     ]
    }
   ],
   "source": [
    "print('Событий в логе:',log_exp.shape[0])\n",
    "print('Уникальных пользователей:',log_exp.device_id.unique().shape[0])\n",
    "print('Среднее число событий на пользователя:',log_exp.shape[0]/log_exp.device_id.unique().shape[0])"
   ]
  },
  {
   "cell_type": "code",
   "execution_count": 13,
   "metadata": {},
   "outputs": [
    {
     "name": "stdout",
     "output_type": "stream",
     "text": [
      "Самая ранняя запись в логе: 2019-07-25\n",
      "Самая поздняя запись в логе: 2019-08-07\n"
     ]
    }
   ],
   "source": [
    "# найдём максимальную и минимальные даты\n",
    "\n",
    "print('Самая ранняя запись в логе:',log_exp.agg({'date':'min'})[0])\n",
    "print('Самая поздняя запись в логе:',log_exp.agg({'date':'max'})[0])"
   ]
  },
  {
   "cell_type": "code",
   "execution_count": 14,
   "metadata": {},
   "outputs": [
    {
     "data": {
      "image/png": "[encoded data removed]",
      "text/plain": [
       "<Figure size 1224x360 with 1 Axes>"
      ]
     },
     "metadata": {
      "needs_background": "light"
     },
     "output_type": "display_data"
    }
   ],
   "source": [
    "#посмотрим, как распределены данные по датам\n",
    "log_exp['date_time'].hist(bins=150,figsize = (17,5))\n",
    "plt.show()"
   ]
  },
  {
   "cell_type": "markdown",
   "metadata": {},
   "source": [
    "Похоже, что на самом деле данные у нас только за период с 1 августа по 7 августа"
   ]
  },
  {
   "cell_type": "code",
   "execution_count": 15,
   "metadata": {},
   "outputs": [
    {
     "data": {
      "image/png": "[encoded data removed]",
      "text/plain": [
       "<Figure size 1224x360 with 1 Axes>"
      ]
     },
     "metadata": {
      "needs_background": "light"
     },
     "output_type": "display_data"
    }
   ],
   "source": [
    "#откинем данные до 1 августа\n",
    "log_exp = log_exp[log_exp['date']>=pd.to_datetime('2019-08-01')].reset_index(drop=True)\n",
    "log_exp['date_time'].hist(bins=150,figsize = (17,5))\n",
    "plt.show()"
   ]
  },
  {
   "cell_type": "code",
   "execution_count": 16,
   "metadata": {},
   "outputs": [
    {
     "name": "stdout",
     "output_type": "stream",
     "text": [
      "Итого событий в логе: 240887\n",
      "Итого уникальных пользователей: 7534\n"
     ]
    }
   ],
   "source": [
    "print('Итого событий в логе:',log_exp.shape[0])\n",
    "print('Итого уникальных пользователей:',log_exp.device_id.unique().shape[0])"
   ]
  },
  {
   "cell_type": "markdown",
   "metadata": {},
   "source": [
    "Откинув данные до 1 августа мы потеряли около 3 тыс. событий ~1,2% и 17 потльзователнй ~0,2%."
   ]
  },
  {
   "cell_type": "code",
   "execution_count": 17,
   "metadata": {},
   "outputs": [
    {
     "data": {
      "text/html": [
       "<div>\n",
       "<style scoped>\n",
       "    .dataframe tbody tr th:only-of-type {\n",
       "        vertical-align: middle;\n",
       "    }\n",
       "\n",
       "    .dataframe tbody tr th {\n",
       "        vertical-align: top;\n",
       "    }\n",
       "\n",
       "    .dataframe thead th {\n",
       "        text-align: right;\n",
       "    }\n",
       "</style>\n",
       "<table border=\"1\" class=\"dataframe\">\n",
       "  <thead>\n",
       "    <tr style=\"text-align: right;\">\n",
       "      <th></th>\n",
       "      <th>device_id</th>\n",
       "    </tr>\n",
       "    <tr>\n",
       "      <th>group</th>\n",
       "      <th></th>\n",
       "    </tr>\n",
       "  </thead>\n",
       "  <tbody>\n",
       "    <tr>\n",
       "      <th>246</th>\n",
       "      <td>2484</td>\n",
       "    </tr>\n",
       "    <tr>\n",
       "      <th>247</th>\n",
       "      <td>2513</td>\n",
       "    </tr>\n",
       "    <tr>\n",
       "      <th>248</th>\n",
       "      <td>2537</td>\n",
       "    </tr>\n",
       "  </tbody>\n",
       "</table>\n",
       "</div>"
      ],
      "text/plain": [
       "       device_id\n",
       "group           \n",
       "246         2484\n",
       "247         2513\n",
       "248         2537"
      ]
     },
     "execution_count": 17,
     "metadata": {},
     "output_type": "execute_result"
    }
   ],
   "source": [
    "# проверим количество пользователей в каждой группе\n",
    "log_exp.groupby('group').agg({'device_id':'nunique'})"
   ]
  },
  {
   "cell_type": "markdown",
   "metadata": {},
   "source": [
    "#### Шаг 4. Изучим воронку событий"
   ]
  },
  {
   "cell_type": "code",
   "execution_count": 18,
   "metadata": {},
   "outputs": [
    {
     "data": {
      "text/plain": [
       "MainScreenAppear           117328\n",
       "OffersScreenAppear          46333\n",
       "CartScreenAppear            42303\n",
       "PaymentScreenSuccessful     33918\n",
       "Tutorial                     1005\n",
       "Name: event, dtype: int64"
      ]
     },
     "execution_count": 18,
     "metadata": {},
     "output_type": "execute_result"
    }
   ],
   "source": [
    "#Посмотрим, какие события есть в логах, как часто они встречаются.\n",
    "log_exp['event'].value_counts()"
   ]
  },
  {
   "cell_type": "code",
   "execution_count": 19,
   "metadata": {},
   "outputs": [],
   "source": [
    "#Посчитаем, сколько пользователей совершали каждое из событий. \n",
    "#Посчитаем долю пользователей, которые хоть раз совершали событие.\n",
    "\n",
    "event_ratio = log_exp.groupby('event').agg({'device_id':'nunique'}).sort_values(by='device_id',ascending=False)\n",
    "event_ratio['ratio'] = event_ratio['device_id']/event_ratio['device_id'][0]"
   ]
  },
  {
   "cell_type": "code",
   "execution_count": 20,
   "metadata": {},
   "outputs": [
    {
     "data": {
      "text/html": [
       "<div>\n",
       "<style scoped>\n",
       "    .dataframe tbody tr th:only-of-type {\n",
       "        vertical-align: middle;\n",
       "    }\n",
       "\n",
       "    .dataframe tbody tr th {\n",
       "        vertical-align: top;\n",
       "    }\n",
       "\n",
       "    .dataframe thead th {\n",
       "        text-align: right;\n",
       "    }\n",
       "</style>\n",
       "<table border=\"1\" class=\"dataframe\">\n",
       "  <thead>\n",
       "    <tr style=\"text-align: right;\">\n",
       "      <th></th>\n",
       "      <th>device_id</th>\n",
       "      <th>churn</th>\n",
       "    </tr>\n",
       "    <tr>\n",
       "      <th>event</th>\n",
       "      <th></th>\n",
       "      <th></th>\n",
       "    </tr>\n",
       "  </thead>\n",
       "  <tbody>\n",
       "    <tr>\n",
       "      <th>MainScreenAppear</th>\n",
       "      <td>7419</td>\n",
       "      <td>NaN</td>\n",
       "    </tr>\n",
       "    <tr>\n",
       "      <th>OffersScreenAppear</th>\n",
       "      <td>4593</td>\n",
       "      <td>-0.380914</td>\n",
       "    </tr>\n",
       "    <tr>\n",
       "      <th>CartScreenAppear</th>\n",
       "      <td>3734</td>\n",
       "      <td>-0.187024</td>\n",
       "    </tr>\n",
       "    <tr>\n",
       "      <th>PaymentScreenSuccessful</th>\n",
       "      <td>3539</td>\n",
       "      <td>-0.052223</td>\n",
       "    </tr>\n",
       "  </tbody>\n",
       "</table>\n",
       "</div>"
      ],
      "text/plain": [
       "                         device_id     churn\n",
       "event                                       \n",
       "MainScreenAppear              7419       NaN\n",
       "OffersScreenAppear            4593 -0.380914\n",
       "CartScreenAppear              3734 -0.187024\n",
       "PaymentScreenSuccessful       3539 -0.052223"
      ]
     },
     "execution_count": 20,
     "metadata": {},
     "output_type": "execute_result"
    }
   ],
   "source": [
    "#По воронке событий посчитаем, какая доля пользователей проходит на следующий шаг воронки\n",
    "\n",
    "funnel = event_ratio[['device_id']][0:4]\n",
    "funnel['churn'] = funnel['device_id'].pct_change()\n",
    "funnel"
   ]
  },
  {
   "cell_type": "markdown",
   "metadata": {},
   "source": [
    "\n",
    "Больше всего пользователей теряется на шаге \"OffersScreenAppear\", -40% от  пользователей увидевших главныый экран."
   ]
  },
  {
   "cell_type": "code",
   "execution_count": 21,
   "metadata": {},
   "outputs": [
    {
     "data": {
      "text/plain": [
       "0.47701846610055265"
      ]
     },
     "execution_count": 21,
     "metadata": {},
     "output_type": "execute_result"
    }
   ],
   "source": [
    "#Какая доля пользователей доходит от первого события до оплаты?\n",
    "\n",
    "funnel['device_id'][3]/funnel['device_id'][0]"
   ]
  },
  {
   "cell_type": "markdown",
   "metadata": {},
   "source": [
    "До оплаты доходит 47% пользователей, увидевших начальный экран. Достаточно высокая конверсия ля ритейла."
   ]
  },
  {
   "cell_type": "markdown",
   "metadata": {},
   "source": [
    "#### Шаг 5. Изучим результаты эксперимента\n"
   ]
  },
  {
   "cell_type": "code",
   "execution_count": 22,
   "metadata": {},
   "outputs": [
    {
     "data": {
      "text/html": [
       "<div>\n",
       "<style scoped>\n",
       "    .dataframe tbody tr th:only-of-type {\n",
       "        vertical-align: middle;\n",
       "    }\n",
       "\n",
       "    .dataframe tbody tr th {\n",
       "        vertical-align: top;\n",
       "    }\n",
       "\n",
       "    .dataframe thead th {\n",
       "        text-align: right;\n",
       "    }\n",
       "</style>\n",
       "<table border=\"1\" class=\"dataframe\">\n",
       "  <thead>\n",
       "    <tr style=\"text-align: right;\">\n",
       "      <th></th>\n",
       "      <th>device_id</th>\n",
       "    </tr>\n",
       "    <tr>\n",
       "      <th>group</th>\n",
       "      <th></th>\n",
       "    </tr>\n",
       "  </thead>\n",
       "  <tbody>\n",
       "    <tr>\n",
       "      <th>246</th>\n",
       "      <td>2484</td>\n",
       "    </tr>\n",
       "    <tr>\n",
       "      <th>247</th>\n",
       "      <td>2513</td>\n",
       "    </tr>\n",
       "    <tr>\n",
       "      <th>248</th>\n",
       "      <td>2537</td>\n",
       "    </tr>\n",
       "  </tbody>\n",
       "</table>\n",
       "</div>"
      ],
      "text/plain": [
       "       device_id\n",
       "group           \n",
       "246         2484\n",
       "247         2513\n",
       "248         2537"
      ]
     },
     "execution_count": 22,
     "metadata": {},
     "output_type": "execute_result"
    }
   ],
   "source": [
    "# Сколько пользователей в каждой экспериментальной группе?\n",
    "group_size = log_exp.groupby('group').agg({'device_id':'nunique'})\n",
    "group_size"
   ]
  },
  {
   "cell_type": "code",
   "execution_count": 23,
   "metadata": {},
   "outputs": [
    {
     "name": "stdout",
     "output_type": "stream",
     "text": [
      "количественные различия м\\у группами 246 и 247: 1.1674718196457405 %\n"
     ]
    }
   ],
   "source": [
    "print('количественные различия м\\у группами 246 и 247:',(group_size['device_id'][247]/group_size['device_id'][246])*100-100,'%')"
   ]
  },
  {
   "cell_type": "code",
   "execution_count": 24,
   "metadata": {},
   "outputs": [
    {
     "name": "stdout",
     "output_type": "stream",
     "text": [
      "p_value: 0.11456679313141849\n"
     ]
    }
   ],
   "source": [
    "#Проверим, находят ли статистические критерии разницу между выборками 246 и 247.\n",
    "# проверим гипотезу, о том что конверсия в покупателей у группы 246 и 247 одинаковые\n",
    "group_246 = log_exp.query('group == 246')\n",
    "group_246_grouped = group_246.groupby('event').agg({'device_id':'nunique'})\n",
    "trials_246 = group_size.loc[246][0]\n",
    "successes_246 = group_246_grouped.loc['PaymentScreenSuccessful'][0]\n",
    "\n",
    "group_247 = log_exp.query('group == 247')\n",
    "group_247_grouped = group_247.groupby('event').agg({'device_id':'nunique'})\n",
    "trials_247 = group_size.loc[247][0]\n",
    "successes_247 = group_247_grouped.loc['PaymentScreenSuccessful'][0]\n",
    "\n",
    "\n",
    "#для проверки воспользуемся Z статистикой\n",
    "alpha = .05\n",
    "\n",
    "#конверсии в группах\n",
    "conv1 = successes_246/trials_246\n",
    "conv2 = successes_247/trials_247\n",
    "\n",
    "#комбинированная конверсия:\n",
    "conv_combine = (successes_246+successes_247)/(trials_246+trials_247)\n",
    "\n",
    "#разница конверсий\n",
    "conv_diff = conv1-conv2\n",
    "\n",
    "z_value = conv_diff/mth.sqrt(conv_combine * (1 - conv_combine) * (1/trials_246 + 1/trials_247))\n",
    "distr = st.norm(0, 1)\n",
    "p_value = (1 - distr.cdf(abs(z_value))) * 2\n",
    "\n",
    "print('p_value:',p_value)"
   ]
  },
  {
   "cell_type": "markdown",
   "metadata": {},
   "source": [
    "<b>С учётом того, что p_value больше уровня стат значимости нет оснований пологать, что конверсии групп 246 и 247 различны, таким образом, для сравнения конверсии с экспериментальной группой можно взять любую из контрольных</b>\n"
   ]
  },
  {
   "cell_type": "code",
   "execution_count": 25,
   "metadata": {},
   "outputs": [],
   "source": [
    "# Проделаем то же самое для всех других событий .\n",
    "\n",
    "# подготовим функцию, которая на основании Z статистики определит есть ли стат. значимая разница между конверсиями групп\n",
    "def stat_check(group1,group2,data):\n",
    "    group_A = data.query('group == @group1')\n",
    "    group_A_grouped = group_A.groupby('event').agg({'device_id':'nunique'})\n",
    "    trials_A = data.groupby('group').agg({'device_id':'nunique'}).loc[group1][0]\n",
    "    \n",
    "    group_B = data.query('group == @group2')\n",
    "    group_B_grouped = group_B.groupby('event').agg({'device_id':'nunique'})\n",
    "    trials_B = data.groupby('group').agg({'device_id':'nunique'}).loc[group2][0]\n",
    "    \n",
    "    nobs = np.array([trials_A,trials_B])\n",
    "    events = data['event'].unique()\n",
    "    \n",
    "    for event in events:\n",
    "        successes_A = group_A_grouped.loc[event][0]\n",
    "        successes_B = group_B_grouped.loc[event][0]\n",
    "        successes = np.array([successes_A,successes_B])\n",
    "        stat, pval = proportions_ztest(successes,nobs)\n",
    "        print('p-value = {:.3%}, для события:{}'.format(pval,event))"
   ]
  },
  {
   "cell_type": "code",
   "execution_count": 26,
   "metadata": {},
   "outputs": [
    {
     "name": "stdout",
     "output_type": "stream",
     "text": [
      "скорректированное значение alpha(%): 0.25613787765302876\n"
     ]
    }
   ],
   "source": [
    "#определим уровень статистической значимости с учётом проведения 20 попарных тестов.\n",
    "# Скорректируем a=.05 в соответствии с методом Шидака\n",
    "m = 20\n",
    "alpha = .05\n",
    "alpha = 1-(1-alpha)**(1/m)\n",
    "print('скорректированное значение alpha(%):',alpha*100)"
   ]
  },
  {
   "cell_type": "code",
   "execution_count": 27,
   "metadata": {},
   "outputs": [
    {
     "name": "stdout",
     "output_type": "stream",
     "text": [
      "p-value = 93.770%, для события:Tutorial\n",
      "p-value = 75.706%, для события:MainScreenAppear\n",
      "p-value = 24.810%, для события:OffersScreenAppear\n",
      "p-value = 22.883%, для события:CartScreenAppear\n",
      "p-value = 11.457%, для события:PaymentScreenSuccessful\n"
     ]
    }
   ],
   "source": [
    "stat_check(246,247,log_exp)"
   ]
  },
  {
   "cell_type": "markdown",
   "metadata": {},
   "source": [
    "Похоже, что p_value, расчитанное для каждого шага воронки, подтверждает схожесть конверсий между контрольными группами. Таким образом, разбиение на группы работает корректно."
   ]
  },
  {
   "cell_type": "code",
   "execution_count": 28,
   "metadata": {},
   "outputs": [
    {
     "name": "stdout",
     "output_type": "stream",
     "text": [
      "p-value = 82.643%, для события:Tutorial\n",
      "p-value = 29.497%, для события:MainScreenAppear\n",
      "p-value = 20.836%, для события:OffersScreenAppear\n",
      "p-value = 7.843%, для события:CartScreenAppear\n",
      "p-value = 21.226%, для события:PaymentScreenSuccessful\n"
     ]
    }
   ],
   "source": [
    "# оценим схожесть конверсий контрольной группы 246 и эксперементальной группы.\n",
    "stat_check(246,248,log_exp)"
   ]
  },
  {
   "cell_type": "code",
   "execution_count": 29,
   "metadata": {},
   "outputs": [
    {
     "name": "stdout",
     "output_type": "stream",
     "text": [
      "p-value = 76.532%, для события:Tutorial\n",
      "p-value = 45.871%, для события:MainScreenAppear\n",
      "p-value = 91.978%, для события:OffersScreenAppear\n",
      "p-value = 57.862%, для события:CartScreenAppear\n",
      "p-value = 73.734%, для события:PaymentScreenSuccessful\n"
     ]
    }
   ],
   "source": [
    "# оценим схожесть конверсий контрольной группы 247 и эксперементальной группы.\n",
    "stat_check(247,248,log_exp)"
   ]
  },
  {
   "cell_type": "code",
   "execution_count": 30,
   "metadata": {},
   "outputs": [
    {
     "name": "stdout",
     "output_type": "stream",
     "text": [
      "p-value = 76.486%, для события:Tutorial\n",
      "p-value = 29.425%, для события:MainScreenAppear\n",
      "p-value = 43.426%, для события:OffersScreenAppear\n",
      "p-value = 18.176%, для события:CartScreenAppear\n",
      "p-value = 60.043%, для события:PaymentScreenSuccessful\n"
     ]
    }
   ],
   "source": [
    "# оценим схожесть конверсий объединенных контрольных групп и эксперементальной группы.\n",
    "group_A = log_exp.query('group == 246 |group == 247')\n",
    "group_A_grouped = group_A.groupby('event').agg({'device_id':'nunique'})\n",
    "trials = log_exp.groupby('group').agg({'device_id':'nunique'})\n",
    "trials_A = trials.loc[246][0]+trials.loc[247][0]    \n",
    "\n",
    "group_B = log_exp.query('group == 248')\n",
    "group_B_grouped = group_B.groupby('event').agg({'device_id':'nunique'})\n",
    "trials_B = log_exp.groupby('group').agg({'device_id':'nunique'}).loc[248][0]\n",
    "    \n",
    "nobs = np.array([trials_A,trials_B])\n",
    "events = log_exp['event'].unique()\n",
    "    \n",
    "for event in events:\n",
    "    successes_A = group_A_grouped.loc[event][0]\n",
    "    successes_B = group_B_grouped.loc[event][0]\n",
    "    successes = np.array([successes_A,successes_B])\n",
    "    stat, pval = proportions_ztest(successes,nobs)\n",
    "    print('p-value = {:.3%}, для события:{}'.format(pval,event))"
   ]
  },
  {
   "cell_type": "markdown",
   "metadata": {},
   "source": [
    "#### Общий вывод\\итог работы:\n",
    "1. Данные были очищенны от полных дублей - 413, что меньше 0,5% данных. Вероятная причина появления дублей - ошибки вследствии синхронизации данных из приложений с БД.\n",
    "2. Лог данных был очищен от событий до 1 августа, так как до этого периода не наблюдается полноты и сопостовимости объёма данных. Таким образом, анализ был проведен на данных с 1 августа по 7 августа.\n",
    "3. Исходя из анализа событий (event) можно прийти к выводу, что события в воронке не всегда являются последовательными, например, обучение просматривают менее 3% покупателей.\n",
    "4. Наибольшее кол-во пользователей теряется при перехое с главного экрана на экран оффера (~40%). Возможно этот экран виден не всем пользователям, что не позволяет им двигаться по воронке дальше.\n",
    "5. В ходе статистического исследования было установлено, что между конверсиями контрольных групп отсутствуют существенные различия.\n",
    "6. Существенные розличия в конверсии также отсутствуют и среди тех, кому показывали новый шрифт, при этом вероятность схожести достаточно высока, что даже в случае увеличения уровня существенности до 10% или меньшей корректировки при проведении меньшего кол-ва попарных тестов не скажется на выводе о схожести контрольных и эксперементальных групп.\n",
    "\n",
    "<b> Таким образом, можно успокоить менеджеров - новый шрифт скорее всего не отпугнёт пользователей и не отразится на снижении конверсии. </b>\n"
   ]
  },
  {
   "cell_type": "code",
   "execution_count": null,
   "metadata": {},
   "outputs": [],
   "source": []
  }
 ],
 "metadata": {
  "kernelspec": {
   "display_name": "Python 3",
   "language": "python",
   "name": "python3"
  },
  "language_info": {
   "codemirror_mode": {
    "name": "ipython",
    "version": 3
   },
   "file_extension": ".py",
   "mimetype": "text/x-python",
   "name": "python",
   "nbconvert_exporter": "python",
   "pygments_lexer": "ipython3",
   "version": "3.7.6"
  }
 },
 "nbformat": 4,
 "nbformat_minor": 2
}
