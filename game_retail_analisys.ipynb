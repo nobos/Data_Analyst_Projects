{
 "cells": [
  {
   "cell_type": "markdown",
   "metadata": {},
   "source": [
    "## Проект: \"выявляем определяющие успешность игры закономерности\""
   ]
  },
  {
   "cell_type": "markdown",
   "metadata": {},
   "source": [
    "Описание таблицы:\n",
    "* Name — название игры\n",
    "* Platform — платформа\n",
    "* Year_of_Release — год выпуска\n",
    "* Genre — жанр игры\n",
    "* NA_sales — продажи в Северной Америке (миллионы долларов)\n",
    "* EU_sales — продажи в Европе (миллионы долларов)\n",
    "* JP_sales — продажи в Японии (миллионы долларов)\n",
    "* Other_sales — продажи в других странах (миллионы долларов)\n",
    "* Critic_Score — оценка критиков (максимум 100)\n",
    "* User_Score — оценка пользователей (максимум 10)\n",
    "* Rating — рейтинг от организации ESRB (англ. Entertainment Software Rating Board)."
   ]
  },
  {
   "cell_type": "markdown",
   "metadata": {},
   "source": [
    "##### Шаг 0. Загрузим библиотеки"
   ]
  },
  {
   "cell_type": "code",
   "execution_count": 1,
   "metadata": {},
   "outputs": [],
   "source": [
    "import pandas as pd\n",
    "import numpy as np\n",
    "import matplotlib.pyplot as plt\n",
    "import seaborn as sns\n",
    "from scipy import stats as st"
   ]
  },
  {
   "cell_type": "markdown",
   "metadata": {},
   "source": [
    "##### Шаг 1. Откроем файл с данными и изучим общую информацию"
   ]
  },
  {
   "cell_type": "code",
   "execution_count": 2,
   "metadata": {},
   "outputs": [
    {
     "data": {
      "text/html": [
       "<div>\n",
       "<style scoped>\n",
       "    .dataframe tbody tr th:only-of-type {\n",
       "        vertical-align: middle;\n",
       "    }\n",
       "\n",
       "    .dataframe tbody tr th {\n",
       "        vertical-align: top;\n",
       "    }\n",
       "\n",
       "    .dataframe thead th {\n",
       "        text-align: right;\n",
       "    }\n",
       "</style>\n",
       "<table border=\"1\" class=\"dataframe\">\n",
       "  <thead>\n",
       "    <tr style=\"text-align: right;\">\n",
       "      <th></th>\n",
       "      <th>Name</th>\n",
       "      <th>Platform</th>\n",
       "      <th>Year_of_Release</th>\n",
       "      <th>Genre</th>\n",
       "      <th>NA_sales</th>\n",
       "      <th>EU_sales</th>\n",
       "      <th>JP_sales</th>\n",
       "      <th>Other_sales</th>\n",
       "      <th>Critic_Score</th>\n",
       "      <th>User_Score</th>\n",
       "      <th>Rating</th>\n",
       "    </tr>\n",
       "  </thead>\n",
       "  <tbody>\n",
       "    <tr>\n",
       "      <td>12128</td>\n",
       "      <td>Microsoft Flight Simulator 2004: A Century of ...</td>\n",
       "      <td>PC</td>\n",
       "      <td>2003.0</td>\n",
       "      <td>Simulation</td>\n",
       "      <td>0.00</td>\n",
       "      <td>0.06</td>\n",
       "      <td>0.00</td>\n",
       "      <td>0.01</td>\n",
       "      <td>88.0</td>\n",
       "      <td>8.2</td>\n",
       "      <td>E</td>\n",
       "    </tr>\n",
       "    <tr>\n",
       "      <td>318</td>\n",
       "      <td>Nintendogs + cats</td>\n",
       "      <td>3DS</td>\n",
       "      <td>2011.0</td>\n",
       "      <td>Simulation</td>\n",
       "      <td>1.44</td>\n",
       "      <td>1.41</td>\n",
       "      <td>0.73</td>\n",
       "      <td>0.27</td>\n",
       "      <td>NaN</td>\n",
       "      <td>NaN</td>\n",
       "      <td>NaN</td>\n",
       "    </tr>\n",
       "    <tr>\n",
       "      <td>14651</td>\n",
       "      <td>New Tokyo Legacy: Operation Babel</td>\n",
       "      <td>PSV</td>\n",
       "      <td>2015.0</td>\n",
       "      <td>Role-Playing</td>\n",
       "      <td>0.00</td>\n",
       "      <td>0.00</td>\n",
       "      <td>0.03</td>\n",
       "      <td>0.00</td>\n",
       "      <td>NaN</td>\n",
       "      <td>NaN</td>\n",
       "      <td>NaN</td>\n",
       "    </tr>\n",
       "    <tr>\n",
       "      <td>11935</td>\n",
       "      <td>Cho~ricchi! Tamagotchi no Puchi Puchi Omisecchi</td>\n",
       "      <td>3DS</td>\n",
       "      <td>2012.0</td>\n",
       "      <td>Action</td>\n",
       "      <td>0.00</td>\n",
       "      <td>0.00</td>\n",
       "      <td>0.07</td>\n",
       "      <td>0.00</td>\n",
       "      <td>NaN</td>\n",
       "      <td>NaN</td>\n",
       "      <td>NaN</td>\n",
       "    </tr>\n",
       "    <tr>\n",
       "      <td>15788</td>\n",
       "      <td>World Class Rugby 2: Kokunai Gekitou Hen '93</td>\n",
       "      <td>SNES</td>\n",
       "      <td>1994.0</td>\n",
       "      <td>Sports</td>\n",
       "      <td>0.00</td>\n",
       "      <td>0.00</td>\n",
       "      <td>0.02</td>\n",
       "      <td>0.00</td>\n",
       "      <td>NaN</td>\n",
       "      <td>NaN</td>\n",
       "      <td>NaN</td>\n",
       "    </tr>\n",
       "  </tbody>\n",
       "</table>\n",
       "</div>"
      ],
      "text/plain": [
       "                                                    Name Platform  \\\n",
       "12128  Microsoft Flight Simulator 2004: A Century of ...       PC   \n",
       "318                                    Nintendogs + cats      3DS   \n",
       "14651                  New Tokyo Legacy: Operation Babel      PSV   \n",
       "11935    Cho~ricchi! Tamagotchi no Puchi Puchi Omisecchi      3DS   \n",
       "15788       World Class Rugby 2: Kokunai Gekitou Hen '93     SNES   \n",
       "\n",
       "       Year_of_Release         Genre  NA_sales  EU_sales  JP_sales  \\\n",
       "12128           2003.0    Simulation      0.00      0.06      0.00   \n",
       "318             2011.0    Simulation      1.44      1.41      0.73   \n",
       "14651           2015.0  Role-Playing      0.00      0.00      0.03   \n",
       "11935           2012.0        Action      0.00      0.00      0.07   \n",
       "15788           1994.0        Sports      0.00      0.00      0.02   \n",
       "\n",
       "       Other_sales  Critic_Score User_Score Rating  \n",
       "12128         0.01          88.0        8.2      E  \n",
       "318           0.27           NaN        NaN    NaN  \n",
       "14651         0.00           NaN        NaN    NaN  \n",
       "11935         0.00           NaN        NaN    NaN  \n",
       "15788         0.00           NaN        NaN    NaN  "
      ]
     },
     "execution_count": 2,
     "metadata": {},
     "output_type": "execute_result"
    }
   ],
   "source": [
    "all_sales = pd.read_csv('/datasets/games.csv')\n",
    "all_sales.sample(5)"
   ]
  },
  {
   "cell_type": "code",
   "execution_count": 3,
   "metadata": {},
   "outputs": [
    {
     "name": "stdout",
     "output_type": "stream",
     "text": [
      "<class 'pandas.core.frame.DataFrame'>\n",
      "RangeIndex: 16715 entries, 0 to 16714\n",
      "Data columns (total 11 columns):\n",
      "Name               16713 non-null object\n",
      "Platform           16715 non-null object\n",
      "Year_of_Release    16446 non-null float64\n",
      "Genre              16713 non-null object\n",
      "NA_sales           16715 non-null float64\n",
      "EU_sales           16715 non-null float64\n",
      "JP_sales           16715 non-null float64\n",
      "Other_sales        16715 non-null float64\n",
      "Critic_Score       8137 non-null float64\n",
      "User_Score         10014 non-null object\n",
      "Rating             9949 non-null object\n",
      "dtypes: float64(6), object(5)\n",
      "memory usage: 1.4+ MB\n"
     ]
    }
   ],
   "source": [
    "all_sales.info()"
   ]
  },
  {
   "cell_type": "code",
   "execution_count": 4,
   "metadata": {},
   "outputs": [
    {
     "name": "stdout",
     "output_type": "stream",
     "text": [
      "['Wii' 'NES' 'GB' 'DS' 'X360' 'PS3' 'PS2' 'SNES' 'GBA' 'PS4' '3DS' 'N64'\n",
      " 'PS' 'XB' 'PC' '2600' 'PSP' 'XOne' 'WiiU' 'GC' 'GEN' 'DC' 'PSV' 'SAT'\n",
      " 'SCD' 'WS' 'NG' 'TG16' '3DO' 'GG' 'PCFX']\n",
      "_________________________\n",
      "['Sports' 'Platform' 'Racing' 'Role-Playing' 'Puzzle' 'Misc' 'Shooter'\n",
      " 'Simulation' 'Action' 'Fighting' 'Adventure' 'Strategy' nan]\n",
      "_________________________\n",
      "['E' nan 'M' 'T' 'E10+' 'K-A' 'AO' 'EC' 'RP']\n",
      "_________________________\n",
      "['8' nan '8.3' '8.5' '6.6' '8.4' '8.6' '7.7' '6.3' '7.4' '8.2' '9' '7.9'\n",
      " '8.1' '8.7' '7.1' '3.4' '5.3' '4.8' '3.2' '8.9' '6.4' '7.8' '7.5' '2.6'\n",
      " '7.2' '9.2' '7' '7.3' '4.3' '7.6' '5.7' '5' '9.1' '6.5' 'tbd' '8.8' '6.9'\n",
      " '9.4' '6.8' '6.1' '6.7' '5.4' '4' '4.9' '4.5' '9.3' '6.2' '4.2' '6' '3.7'\n",
      " '4.1' '5.8' '5.6' '5.5' '4.4' '4.6' '5.9' '3.9' '3.1' '2.9' '5.2' '3.3'\n",
      " '4.7' '5.1' '3.5' '2.5' '1.9' '3' '2.7' '2.2' '2' '9.5' '2.1' '3.6' '2.8'\n",
      " '1.8' '3.8' '0' '1.6' '9.6' '2.4' '1.7' '1.1' '0.3' '1.5' '0.7' '1.2'\n",
      " '2.3' '0.5' '1.3' '0.2' '0.6' '1.4' '0.9' '1' '9.7']\n",
      "_________________________\n",
      "[76. nan 82. 80. 89. 58. 87. 91. 61. 97. 95. 77. 88. 83. 94. 93. 85. 86.\n",
      " 98. 96. 90. 84. 73. 74. 78. 92. 71. 72. 68. 62. 49. 67. 81. 66. 56. 79.\n",
      " 70. 59. 64. 75. 60. 63. 69. 50. 25. 42. 44. 55. 48. 57. 29. 47. 65. 54.\n",
      " 20. 53. 37. 38. 33. 52. 30. 32. 43. 45. 51. 40. 46. 39. 34. 35. 41. 36.\n",
      " 28. 31. 27. 26. 19. 23. 24. 21. 17. 22. 13.]\n"
     ]
    }
   ],
   "source": [
    "print(all_sales.Platform.unique())\n",
    "print('_________________________')\n",
    "print(all_sales.Genre.unique())\n",
    "print('_________________________')\n",
    "print(all_sales.Rating.unique())\n",
    "print('_________________________')\n",
    "print(all_sales.User_Score.unique())\n",
    "print('_________________________')\n",
    "print(all_sales.Critic_Score.unique())"
   ]
  },
  {
   "cell_type": "code",
   "execution_count": 5,
   "metadata": {},
   "outputs": [
    {
     "data": {
      "text/html": [
       "<div>\n",
       "<style scoped>\n",
       "    .dataframe tbody tr th:only-of-type {\n",
       "        vertical-align: middle;\n",
       "    }\n",
       "\n",
       "    .dataframe tbody tr th {\n",
       "        vertical-align: top;\n",
       "    }\n",
       "\n",
       "    .dataframe thead th {\n",
       "        text-align: right;\n",
       "    }\n",
       "</style>\n",
       "<table border=\"1\" class=\"dataframe\">\n",
       "  <thead>\n",
       "    <tr style=\"text-align: right;\">\n",
       "      <th></th>\n",
       "      <th>Name</th>\n",
       "      <th>Platform</th>\n",
       "      <th>Year_of_Release</th>\n",
       "      <th>Genre</th>\n",
       "      <th>NA_sales</th>\n",
       "      <th>EU_sales</th>\n",
       "      <th>JP_sales</th>\n",
       "      <th>Other_sales</th>\n",
       "      <th>Critic_Score</th>\n",
       "      <th>User_Score</th>\n",
       "      <th>Rating</th>\n",
       "    </tr>\n",
       "  </thead>\n",
       "  <tbody>\n",
       "    <tr>\n",
       "      <td>659</td>\n",
       "      <td>NaN</td>\n",
       "      <td>GEN</td>\n",
       "      <td>1993.0</td>\n",
       "      <td>NaN</td>\n",
       "      <td>1.78</td>\n",
       "      <td>0.53</td>\n",
       "      <td>0.00</td>\n",
       "      <td>0.08</td>\n",
       "      <td>NaN</td>\n",
       "      <td>NaN</td>\n",
       "      <td>NaN</td>\n",
       "    </tr>\n",
       "    <tr>\n",
       "      <td>14244</td>\n",
       "      <td>NaN</td>\n",
       "      <td>GEN</td>\n",
       "      <td>1993.0</td>\n",
       "      <td>NaN</td>\n",
       "      <td>0.00</td>\n",
       "      <td>0.00</td>\n",
       "      <td>0.03</td>\n",
       "      <td>0.00</td>\n",
       "      <td>NaN</td>\n",
       "      <td>NaN</td>\n",
       "      <td>NaN</td>\n",
       "    </tr>\n",
       "  </tbody>\n",
       "</table>\n",
       "</div>"
      ],
      "text/plain": [
       "      Name Platform  Year_of_Release Genre  NA_sales  EU_sales  JP_sales  \\\n",
       "659    NaN      GEN           1993.0   NaN      1.78      0.53      0.00   \n",
       "14244  NaN      GEN           1993.0   NaN      0.00      0.00      0.03   \n",
       "\n",
       "       Other_sales  Critic_Score User_Score Rating  \n",
       "659           0.08           NaN        NaN    NaN  \n",
       "14244         0.00           NaN        NaN    NaN  "
      ]
     },
     "execution_count": 5,
     "metadata": {},
     "output_type": "execute_result"
    }
   ],
   "source": [
    "all_sales[all_sales['Name'].isna()]"
   ]
  },
  {
   "cell_type": "code",
   "execution_count": 6,
   "metadata": {},
   "outputs": [
    {
     "data": {
      "text/html": [
       "<div>\n",
       "<style scoped>\n",
       "    .dataframe tbody tr th:only-of-type {\n",
       "        vertical-align: middle;\n",
       "    }\n",
       "\n",
       "    .dataframe tbody tr th {\n",
       "        vertical-align: top;\n",
       "    }\n",
       "\n",
       "    .dataframe thead th {\n",
       "        text-align: right;\n",
       "    }\n",
       "</style>\n",
       "<table border=\"1\" class=\"dataframe\">\n",
       "  <thead>\n",
       "    <tr style=\"text-align: right;\">\n",
       "      <th></th>\n",
       "      <th>Name</th>\n",
       "      <th>Platform</th>\n",
       "      <th>Year_of_Release</th>\n",
       "      <th>Genre</th>\n",
       "      <th>NA_sales</th>\n",
       "      <th>EU_sales</th>\n",
       "      <th>JP_sales</th>\n",
       "      <th>Other_sales</th>\n",
       "      <th>Critic_Score</th>\n",
       "      <th>User_Score</th>\n",
       "      <th>Rating</th>\n",
       "    </tr>\n",
       "  </thead>\n",
       "  <tbody>\n",
       "    <tr>\n",
       "      <td>183</td>\n",
       "      <td>Madden NFL 2004</td>\n",
       "      <td>PS2</td>\n",
       "      <td>NaN</td>\n",
       "      <td>Sports</td>\n",
       "      <td>4.26</td>\n",
       "      <td>0.26</td>\n",
       "      <td>0.01</td>\n",
       "      <td>0.71</td>\n",
       "      <td>94.0</td>\n",
       "      <td>8.5</td>\n",
       "      <td>E</td>\n",
       "    </tr>\n",
       "    <tr>\n",
       "      <td>377</td>\n",
       "      <td>FIFA Soccer 2004</td>\n",
       "      <td>PS2</td>\n",
       "      <td>NaN</td>\n",
       "      <td>Sports</td>\n",
       "      <td>0.59</td>\n",
       "      <td>2.36</td>\n",
       "      <td>0.04</td>\n",
       "      <td>0.51</td>\n",
       "      <td>84.0</td>\n",
       "      <td>6.4</td>\n",
       "      <td>E</td>\n",
       "    </tr>\n",
       "    <tr>\n",
       "      <td>456</td>\n",
       "      <td>LEGO Batman: The Videogame</td>\n",
       "      <td>Wii</td>\n",
       "      <td>NaN</td>\n",
       "      <td>Action</td>\n",
       "      <td>1.80</td>\n",
       "      <td>0.97</td>\n",
       "      <td>0.00</td>\n",
       "      <td>0.29</td>\n",
       "      <td>74.0</td>\n",
       "      <td>7.9</td>\n",
       "      <td>E10+</td>\n",
       "    </tr>\n",
       "    <tr>\n",
       "      <td>475</td>\n",
       "      <td>wwe Smackdown vs. Raw 2006</td>\n",
       "      <td>PS2</td>\n",
       "      <td>NaN</td>\n",
       "      <td>Fighting</td>\n",
       "      <td>1.57</td>\n",
       "      <td>1.02</td>\n",
       "      <td>0.00</td>\n",
       "      <td>0.41</td>\n",
       "      <td>NaN</td>\n",
       "      <td>NaN</td>\n",
       "      <td>NaN</td>\n",
       "    </tr>\n",
       "    <tr>\n",
       "      <td>609</td>\n",
       "      <td>Space Invaders</td>\n",
       "      <td>2600</td>\n",
       "      <td>NaN</td>\n",
       "      <td>Shooter</td>\n",
       "      <td>2.36</td>\n",
       "      <td>0.14</td>\n",
       "      <td>0.00</td>\n",
       "      <td>0.03</td>\n",
       "      <td>NaN</td>\n",
       "      <td>NaN</td>\n",
       "      <td>NaN</td>\n",
       "    </tr>\n",
       "    <tr>\n",
       "      <td>...</td>\n",
       "      <td>...</td>\n",
       "      <td>...</td>\n",
       "      <td>...</td>\n",
       "      <td>...</td>\n",
       "      <td>...</td>\n",
       "      <td>...</td>\n",
       "      <td>...</td>\n",
       "      <td>...</td>\n",
       "      <td>...</td>\n",
       "      <td>...</td>\n",
       "      <td>...</td>\n",
       "    </tr>\n",
       "    <tr>\n",
       "      <td>16373</td>\n",
       "      <td>PDC World Championship Darts 2008</td>\n",
       "      <td>PSP</td>\n",
       "      <td>NaN</td>\n",
       "      <td>Sports</td>\n",
       "      <td>0.01</td>\n",
       "      <td>0.00</td>\n",
       "      <td>0.00</td>\n",
       "      <td>0.00</td>\n",
       "      <td>43.0</td>\n",
       "      <td>tbd</td>\n",
       "      <td>E10+</td>\n",
       "    </tr>\n",
       "    <tr>\n",
       "      <td>16405</td>\n",
       "      <td>Freaky Flyers</td>\n",
       "      <td>GC</td>\n",
       "      <td>NaN</td>\n",
       "      <td>Racing</td>\n",
       "      <td>0.01</td>\n",
       "      <td>0.00</td>\n",
       "      <td>0.00</td>\n",
       "      <td>0.00</td>\n",
       "      <td>69.0</td>\n",
       "      <td>6.5</td>\n",
       "      <td>T</td>\n",
       "    </tr>\n",
       "    <tr>\n",
       "      <td>16448</td>\n",
       "      <td>Inversion</td>\n",
       "      <td>PC</td>\n",
       "      <td>NaN</td>\n",
       "      <td>Shooter</td>\n",
       "      <td>0.01</td>\n",
       "      <td>0.00</td>\n",
       "      <td>0.00</td>\n",
       "      <td>0.00</td>\n",
       "      <td>59.0</td>\n",
       "      <td>6.7</td>\n",
       "      <td>M</td>\n",
       "    </tr>\n",
       "    <tr>\n",
       "      <td>16458</td>\n",
       "      <td>Hakuouki: Shinsengumi Kitan</td>\n",
       "      <td>PS3</td>\n",
       "      <td>NaN</td>\n",
       "      <td>Adventure</td>\n",
       "      <td>0.01</td>\n",
       "      <td>0.00</td>\n",
       "      <td>0.00</td>\n",
       "      <td>0.00</td>\n",
       "      <td>NaN</td>\n",
       "      <td>NaN</td>\n",
       "      <td>NaN</td>\n",
       "    </tr>\n",
       "    <tr>\n",
       "      <td>16522</td>\n",
       "      <td>Virtua Quest</td>\n",
       "      <td>GC</td>\n",
       "      <td>NaN</td>\n",
       "      <td>Role-Playing</td>\n",
       "      <td>0.01</td>\n",
       "      <td>0.00</td>\n",
       "      <td>0.00</td>\n",
       "      <td>0.00</td>\n",
       "      <td>55.0</td>\n",
       "      <td>5.5</td>\n",
       "      <td>T</td>\n",
       "    </tr>\n",
       "  </tbody>\n",
       "</table>\n",
       "<p>269 rows × 11 columns</p>\n",
       "</div>"
      ],
      "text/plain": [
       "                                    Name Platform  Year_of_Release  \\\n",
       "183                      Madden NFL 2004      PS2              NaN   \n",
       "377                     FIFA Soccer 2004      PS2              NaN   \n",
       "456           LEGO Batman: The Videogame      Wii              NaN   \n",
       "475           wwe Smackdown vs. Raw 2006      PS2              NaN   \n",
       "609                       Space Invaders     2600              NaN   \n",
       "...                                  ...      ...              ...   \n",
       "16373  PDC World Championship Darts 2008      PSP              NaN   \n",
       "16405                      Freaky Flyers       GC              NaN   \n",
       "16448                          Inversion       PC              NaN   \n",
       "16458        Hakuouki: Shinsengumi Kitan      PS3              NaN   \n",
       "16522                       Virtua Quest       GC              NaN   \n",
       "\n",
       "              Genre  NA_sales  EU_sales  JP_sales  Other_sales  Critic_Score  \\\n",
       "183          Sports      4.26      0.26      0.01         0.71          94.0   \n",
       "377          Sports      0.59      2.36      0.04         0.51          84.0   \n",
       "456          Action      1.80      0.97      0.00         0.29          74.0   \n",
       "475        Fighting      1.57      1.02      0.00         0.41           NaN   \n",
       "609         Shooter      2.36      0.14      0.00         0.03           NaN   \n",
       "...             ...       ...       ...       ...          ...           ...   \n",
       "16373        Sports      0.01      0.00      0.00         0.00          43.0   \n",
       "16405        Racing      0.01      0.00      0.00         0.00          69.0   \n",
       "16448       Shooter      0.01      0.00      0.00         0.00          59.0   \n",
       "16458     Adventure      0.01      0.00      0.00         0.00           NaN   \n",
       "16522  Role-Playing      0.01      0.00      0.00         0.00          55.0   \n",
       "\n",
       "      User_Score Rating  \n",
       "183          8.5      E  \n",
       "377          6.4      E  \n",
       "456          7.9   E10+  \n",
       "475          NaN    NaN  \n",
       "609          NaN    NaN  \n",
       "...          ...    ...  \n",
       "16373        tbd   E10+  \n",
       "16405        6.5      T  \n",
       "16448        6.7      M  \n",
       "16458        NaN    NaN  \n",
       "16522        5.5      T  \n",
       "\n",
       "[269 rows x 11 columns]"
      ]
     },
     "execution_count": 6,
     "metadata": {},
     "output_type": "execute_result"
    }
   ],
   "source": [
    "all_sales[all_sales['Year_of_Release'].isna()]"
   ]
  },
  {
   "cell_type": "markdown",
   "metadata": {},
   "source": [
    "##### Вывод по шагу:\n",
    "* Названия колонок для удобства нужно привести к нижнему регистру\n",
    "* В столбце Year_of_Release отсутсвует 1.6% данных. Не похоже что это только старые игры с неизвестной датой, так как есть достаточно новые платформы. Можно было бы заполнить средним годом по платформе, но с учётом небольшого кол-ва данных, считаю их можно удалить.\n",
    "* Столбцы Year_of_Release, Critic_Score преобразовать в int\n",
    "* 2 игры не имеют названия и части прочих атрибутов - от них можно избавиться.\n",
    "* TBD в User Score означает to be determined - то есть ещё не присвоен, обоснованным тут будет заменить tbd на NAN, так как фактически оценки ещё нет, а столбец преобразовать во float\n",
    "* Столбец Rating и Critic Score не заполнить ни средней ни медианой, тут всё очень индивидуально. Придётся оставить NaN, или избавиться от значений (определимся по ходу проекта)."
   ]
  },
  {
   "cell_type": "markdown",
   "metadata": {},
   "source": [
    "##### Шаг 2. Подготовим данные"
   ]
  },
  {
   "cell_type": "code",
   "execution_count": 7,
   "metadata": {},
   "outputs": [
    {
     "data": {
      "text/plain": [
       "Index(['name', 'platform', 'year_of_release', 'genre', 'na_sales', 'eu_sales',\n",
       "       'jp_sales', 'other_sales', 'critic_score', 'user_score', 'rating'],\n",
       "      dtype='object')"
      ]
     },
     "execution_count": 7,
     "metadata": {},
     "output_type": "execute_result"
    }
   ],
   "source": [
    "# приведем столбцы к нижнему регистру\n",
    "\n",
    "def col_lower(df):\n",
    "    col = df.columns\n",
    "    renamed = {k:k.lower() for k in col}\n",
    "    df = df.rename(columns = renamed)\n",
    "    return df\n",
    "\n",
    "all_sales = col_lower(all_sales)\n",
    "all_sales.columns"
   ]
  },
  {
   "cell_type": "code",
   "execution_count": 8,
   "metadata": {},
   "outputs": [],
   "source": [
    "# В столбце Year_of_Release отсутсвует 1.6% данных. Не похоже что это только старые игры с неизвестной датой,\n",
    "# так как есть достаточно новые платформы. Можно было бы заполнить средним годом по платформе,\n",
    "# но с учётом небольшого кол-ва данных, считаю их можно удалить.\n",
    "# Возможная причина появления пропусков - человеческий фактор, когда год при заполнении был пропущен\n",
    "\n",
    "all_sales.dropna(subset = ['year_of_release'],inplace = True)"
   ]
  },
  {
   "cell_type": "code",
   "execution_count": 9,
   "metadata": {},
   "outputs": [],
   "source": [
    "# переведём столбец в  int\n",
    "all_sales['year_of_release'] = all_sales['year_of_release'].astype(int)"
   ]
  },
  {
   "cell_type": "code",
   "execution_count": 10,
   "metadata": {},
   "outputs": [],
   "source": [
    "# ещё избавимся от 2х игр без названия и жанра. Похоже это достаточно старые игры по которым просто не информации\n",
    "all_sales.dropna(subset = ['name'],inplace = True)"
   ]
  },
  {
   "cell_type": "code",
   "execution_count": 11,
   "metadata": {},
   "outputs": [],
   "source": [
    "# tbd в user score заменим на Nan, чтобы не мешал расчётам. \n",
    "# TBD в User Score означает to be determined - то есть ещё не присвоен, обоснованным тут будет заменить tbd на NAN,\n",
    "# так как фактически оценки ещё нет. NaN в остальных оценках скорее всего также результат того, что оценка просто отсутствует\n",
    "\n",
    "all_sales['user_score'] = all_sales['user_score'].replace('tbd',np.nan)\n",
    "\n",
    "# и преобразуем во float:\n",
    "all_sales['user_score'] = all_sales['user_score'].astype(float)\n"
   ]
  },
  {
   "cell_type": "code",
   "execution_count": 12,
   "metadata": {},
   "outputs": [],
   "source": [
    "# теперь посчитаем итог из продаж по регионам\n",
    "all_sales['total_sales'] =  (all_sales['na_sales'] + all_sales['eu_sales'] + all_sales['jp_sales'] + all_sales['other_sales'])"
   ]
  },
  {
   "cell_type": "markdown",
   "metadata": {},
   "source": [
    "#### Шаг 3. Проведем исследовательский анализ данных"
   ]
  },
  {
   "cell_type": "code",
   "execution_count": 13,
   "metadata": {},
   "outputs": [],
   "source": [
    "# сгруппируем данные по годам\n",
    "grouped_year = (all_sales.pivot_table(index = 'year_of_release', aggfunc = {'name':'count'})\n",
    "                        .rename(columns = {'name':'count'})\n",
    "                        .sort_values(by = 'count'))\n"
   ]
  },
  {
   "cell_type": "code",
   "execution_count": 14,
   "metadata": {},
   "outputs": [
    {
     "data": {
      "text/plain": [
       "Text(0.5, 1.0, 'выпуск игр по годам')"
      ]
     },
     "execution_count": 14,
     "metadata": {},
     "output_type": "execute_result"
    },
    {
     "data": {
      "image/png": "[encoded data removed]",
      "text/plain": [
       "<Figure size 1440x360 with 1 Axes>"
      ]
     },
     "metadata": {
      "needs_background": "light"
     },
     "output_type": "display_data"
    }
   ],
   "source": [
    "plt.figure(figsize=(20,5))\n",
    "sns.barplot(x=grouped_year.index,y='count', data = grouped_year ).set_title('выпуск игр по годам')"
   ]
  },
  {
   "cell_type": "markdown",
   "metadata": {},
   "source": [
    "исходя из количества выпущенных игр, можно сделать вывод, что наибольшие значения с 2005 по 2011 год. В 80 и 90 выпускалось незначительное кол-во игр, как и с 2012 г"
   ]
  },
  {
   "cell_type": "code",
   "execution_count": 15,
   "metadata": {},
   "outputs": [],
   "source": [
    "grouped_year = (all_sales.pivot_table(index = 'year_of_release', aggfunc = {'total_sales':'sum'})\n",
    "                                                                .rename(columns = {'total_sales':'sum'})\n",
    "                                                                .sort_values(by = 'sum'))"
   ]
  },
  {
   "cell_type": "code",
   "execution_count": 16,
   "metadata": {},
   "outputs": [
    {
     "data": {
      "text/plain": [
       "Text(0.5, 1.0, 'продажи игр по годам')"
      ]
     },
     "execution_count": 16,
     "metadata": {},
     "output_type": "execute_result"
    },
    {
     "data": {
      "image/png": "[encoded data removed]",
      "text/plain": [
       "<Figure size 1440x360 with 1 Axes>"
      ]
     },
     "metadata": {
      "needs_background": "light"
     },
     "output_type": "display_data"
    }
   ],
   "source": [
    "plt.figure(figsize=(20,5))\n",
    "sns.barplot(x=grouped_year.index,y='sum', data = grouped_year).set_title('продажи игр по годам')"
   ]
  },
  {
   "cell_type": "markdown",
   "metadata": {},
   "source": [
    "Похоже продажи игр коррелируют с их выпуском"
   ]
  },
  {
   "cell_type": "code",
   "execution_count": 17,
   "metadata": {},
   "outputs": [],
   "source": [
    "# сформируем таблицу с продажами по годам:\n",
    "platform_release = all_sales.pivot_table(index = 'platform', \n",
    "                                          columns = 'year_of_release',\n",
    "                                          aggfunc = {'total_sales':'sum'}\n",
    "                                           ).reset_index()\n",
    "# избавимся от мультииндекса\n",
    "platform_release.columns = platform_release.columns.droplevel(0)\n",
    "platform_release = platform_release.rename(columns = {'':'platform'})"
   ]
  },
  {
   "cell_type": "code",
   "execution_count": 18,
   "metadata": {},
   "outputs": [
    {
     "data": {
      "text/plain": [
       "total_sales    301.205\n",
       "Name: 0.75, dtype: float64"
      ]
     },
     "execution_count": 18,
     "metadata": {},
     "output_type": "execute_result"
    }
   ],
   "source": [
    "#определим платформы с наибольшими продажами, входящими в квантиль 75%, далее отбросим платформы до него\n",
    "platform_sales = all_sales.pivot_table(index = 'platform', aggfunc = {'total_sales':'sum'}).sort_values(by='total_sales')\n",
    "platform_sales.quantile(q=0.75)"
   ]
  },
  {
   "cell_type": "code",
   "execution_count": 19,
   "metadata": {},
   "outputs": [],
   "source": [
    "# добудем список нужных платформ\n",
    "top_platform = platform_sales.query('total_sales>=301').index"
   ]
  },
  {
   "cell_type": "code",
   "execution_count": 20,
   "metadata": {},
   "outputs": [],
   "source": [
    "# теперь отсортируем таблицу platform_release по нужным нам платформам\n",
    "top_platform_release = platform_release.query('platform in @top_platform')"
   ]
  },
  {
   "cell_type": "code",
   "execution_count": 21,
   "metadata": {},
   "outputs": [],
   "source": [
    "top_platform_trans = top_platform_release.transpose()\n",
    "top_platform_trans = top_platform_trans.rename(columns = top_platform_trans.loc['platform']).drop(index = 'platform')"
   ]
  },
  {
   "cell_type": "code",
   "execution_count": 22,
   "metadata": {},
   "outputs": [
    {
     "data": {
      "text/plain": [
       "<matplotlib.axes._subplots.AxesSubplot at 0x7fb41f9ebf50>"
      ]
     },
     "execution_count": 22,
     "metadata": {},
     "output_type": "execute_result"
    },
    {
     "data": {
      "image/png": "[encoded data removed]",
      "text/plain": [
       "<Figure size 1440x360 with 1 Axes>"
      ]
     },
     "metadata": {
      "needs_background": "light"
     },
     "output_type": "display_data"
    }
   ],
   "source": [
    "top_platform_trans.plot(figsize = (20,5),xlim=(1993,2016), title = 'Top platform sales')"
   ]
  },
  {
   "cell_type": "markdown",
   "metadata": {},
   "source": [
    "Исходя из графика выше, средний срок жизни платформы составляет примерно 7-10 лет"
   ]
  },
  {
   "cell_type": "code",
   "execution_count": 23,
   "metadata": {},
   "outputs": [],
   "source": [
    "# исходя из проведенного выше анализа, в итоговой выборке можно оставить топ платформы, \n",
    "# продажы по которым начались не позднее 10 лет назад, и имеют продажи в настоящее время\n",
    "\n",
    "#определим платформы, игры на которые продаются сейчас:\n",
    "actual_sales_platform = all_sales.query('year_of_release == 2016').platform.unique()\n",
    "\n",
    "\n",
    "actual_sales = all_sales.query('year_of_release> 2005 and platform in @actual_sales_platform').reset_index().drop(columns='index')"
   ]
  },
  {
   "cell_type": "code",
   "execution_count": 24,
   "metadata": {},
   "outputs": [],
   "source": [
    "actual_platform = actual_sales.pivot_table(index = 'platform', \n",
    "                                          columns = 'year_of_release',\n",
    "                                          aggfunc = {'total_sales':'sum'}\n",
    "                                           ).reset_index()\n",
    "# избавимся от мультииндекса\n",
    "actual_platform.columns = actual_platform.columns.droplevel(0)\n",
    "actual_platform = actual_platform.rename(columns = {'':'platform'})"
   ]
  },
  {
   "cell_type": "code",
   "execution_count": 25,
   "metadata": {},
   "outputs": [],
   "source": [
    "actual_platform = actual_platform.transpose()\n",
    "actual_platform_sales = actual_platform.rename(columns = actual_platform.loc['platform']).drop(index = 'platform')"
   ]
  },
  {
   "cell_type": "code",
   "execution_count": 26,
   "metadata": {},
   "outputs": [
    {
     "data": {
      "text/plain": [
       "<matplotlib.axes._subplots.AxesSubplot at 0x7fb41f6edd10>"
      ]
     },
     "execution_count": 26,
     "metadata": {},
     "output_type": "execute_result"
    },
    {
     "data": {
      "image/png": "[encoded data removed]",
      "text/plain": [
       "<Figure size 1440x360 with 1 Axes>"
      ]
     },
     "metadata": {
      "needs_background": "light"
     },
     "output_type": "display_data"
    }
   ],
   "source": [
    "# ограничим график 2015 годом, так как похоже данные за 2016 год не за все месяцы\n",
    "actual_platform_sales.plot(figsize = (20,5), title = 'Actual platform sales',xlim=(2006,2015))"
   ]
  },
  {
   "cell_type": "markdown",
   "metadata": {},
   "source": [
    "Исходя из графика выше, к платформам набирающим популярность можно отнести PS4, XOne. Продажи остальных платформ снижаются."
   ]
  },
  {
   "cell_type": "code",
   "execution_count": 27,
   "metadata": {},
   "outputs": [
    {
     "data": {
      "text/plain": [
       "<Figure size 1080x1080 with 0 Axes>"
      ]
     },
     "execution_count": 27,
     "metadata": {},
     "output_type": "execute_result"
    },
    {
     "data": {
      "image/png": "[encoded data removed]",
      "text/plain": [
       "<Figure size 360x360 with 1 Axes>"
      ]
     },
     "metadata": {
      "needs_background": "light"
     },
     "output_type": "display_data"
    },
    {
     "data": {
      "text/plain": [
       "<Figure size 1080x1080 with 0 Axes>"
      ]
     },
     "metadata": {},
     "output_type": "display_data"
    }
   ],
   "source": [
    "#посмотрим на \"ящик с усами\"\n",
    "\n",
    "sns.catplot(data = actual_sales[['platform','total_sales']], x='platform', y='total_sales', kind = 'box')\n",
    "plt.ylim(0,1)\n",
    "plt.figure(figsize=(15,15))"
   ]
  },
  {
   "cell_type": "code",
   "execution_count": 28,
   "metadata": {},
   "outputs": [
    {
     "data": {
      "text/html": [
       "<div>\n",
       "<style scoped>\n",
       "    .dataframe tbody tr th:only-of-type {\n",
       "        vertical-align: middle;\n",
       "    }\n",
       "\n",
       "    .dataframe tbody tr th {\n",
       "        vertical-align: top;\n",
       "    }\n",
       "\n",
       "    .dataframe thead tr th {\n",
       "        text-align: left;\n",
       "    }\n",
       "\n",
       "    .dataframe thead tr:last-of-type th {\n",
       "        text-align: right;\n",
       "    }\n",
       "</style>\n",
       "<table border=\"1\" class=\"dataframe\">\n",
       "  <thead>\n",
       "    <tr>\n",
       "      <th></th>\n",
       "      <th colspan=\"8\" halign=\"left\">total_sales</th>\n",
       "    </tr>\n",
       "    <tr>\n",
       "      <th></th>\n",
       "      <th>count</th>\n",
       "      <th>mean</th>\n",
       "      <th>std</th>\n",
       "      <th>min</th>\n",
       "      <th>25%</th>\n",
       "      <th>50%</th>\n",
       "      <th>75%</th>\n",
       "      <th>max</th>\n",
       "    </tr>\n",
       "    <tr>\n",
       "      <th>platform</th>\n",
       "      <th></th>\n",
       "      <th></th>\n",
       "      <th></th>\n",
       "      <th></th>\n",
       "      <th></th>\n",
       "      <th></th>\n",
       "      <th></th>\n",
       "      <th></th>\n",
       "    </tr>\n",
       "  </thead>\n",
       "  <tbody>\n",
       "    <tr>\n",
       "      <td>3DS</td>\n",
       "      <td>512.0</td>\n",
       "      <td>0.503535</td>\n",
       "      <td>1.441271</td>\n",
       "      <td>0.01</td>\n",
       "      <td>0.05</td>\n",
       "      <td>0.12</td>\n",
       "      <td>0.3325</td>\n",
       "      <td>14.60</td>\n",
       "    </tr>\n",
       "    <tr>\n",
       "      <td>PC</td>\n",
       "      <td>776.0</td>\n",
       "      <td>0.210593</td>\n",
       "      <td>0.543686</td>\n",
       "      <td>0.01</td>\n",
       "      <td>0.02</td>\n",
       "      <td>0.05</td>\n",
       "      <td>0.1625</td>\n",
       "      <td>8.01</td>\n",
       "    </tr>\n",
       "    <tr>\n",
       "      <td>PS3</td>\n",
       "      <td>1306.0</td>\n",
       "      <td>0.713124</td>\n",
       "      <td>1.403065</td>\n",
       "      <td>0.00</td>\n",
       "      <td>0.11</td>\n",
       "      <td>0.28</td>\n",
       "      <td>0.7600</td>\n",
       "      <td>21.05</td>\n",
       "    </tr>\n",
       "    <tr>\n",
       "      <td>PS4</td>\n",
       "      <td>392.0</td>\n",
       "      <td>0.801378</td>\n",
       "      <td>1.609456</td>\n",
       "      <td>0.01</td>\n",
       "      <td>0.06</td>\n",
       "      <td>0.20</td>\n",
       "      <td>0.7300</td>\n",
       "      <td>14.63</td>\n",
       "    </tr>\n",
       "    <tr>\n",
       "      <td>PSV</td>\n",
       "      <td>429.0</td>\n",
       "      <td>0.125431</td>\n",
       "      <td>0.212341</td>\n",
       "      <td>0.01</td>\n",
       "      <td>0.02</td>\n",
       "      <td>0.05</td>\n",
       "      <td>0.1300</td>\n",
       "      <td>1.96</td>\n",
       "    </tr>\n",
       "    <tr>\n",
       "      <td>Wii</td>\n",
       "      <td>1286.0</td>\n",
       "      <td>0.692986</td>\n",
       "      <td>3.165022</td>\n",
       "      <td>0.01</td>\n",
       "      <td>0.09</td>\n",
       "      <td>0.19</td>\n",
       "      <td>0.4875</td>\n",
       "      <td>82.54</td>\n",
       "    </tr>\n",
       "    <tr>\n",
       "      <td>WiiU</td>\n",
       "      <td>147.0</td>\n",
       "      <td>0.559116</td>\n",
       "      <td>1.058836</td>\n",
       "      <td>0.01</td>\n",
       "      <td>0.08</td>\n",
       "      <td>0.22</td>\n",
       "      <td>0.5250</td>\n",
       "      <td>7.09</td>\n",
       "    </tr>\n",
       "    <tr>\n",
       "      <td>X360</td>\n",
       "      <td>1214.0</td>\n",
       "      <td>0.785000</td>\n",
       "      <td>1.642714</td>\n",
       "      <td>0.01</td>\n",
       "      <td>0.11</td>\n",
       "      <td>0.28</td>\n",
       "      <td>0.7775</td>\n",
       "      <td>21.82</td>\n",
       "    </tr>\n",
       "    <tr>\n",
       "      <td>XOne</td>\n",
       "      <td>247.0</td>\n",
       "      <td>0.645020</td>\n",
       "      <td>1.036139</td>\n",
       "      <td>0.01</td>\n",
       "      <td>0.06</td>\n",
       "      <td>0.22</td>\n",
       "      <td>0.6850</td>\n",
       "      <td>7.39</td>\n",
       "    </tr>\n",
       "  </tbody>\n",
       "</table>\n",
       "</div>"
      ],
      "text/plain": [
       "         total_sales                                                     \n",
       "               count      mean       std   min   25%   50%     75%    max\n",
       "platform                                                                 \n",
       "3DS            512.0  0.503535  1.441271  0.01  0.05  0.12  0.3325  14.60\n",
       "PC             776.0  0.210593  0.543686  0.01  0.02  0.05  0.1625   8.01\n",
       "PS3           1306.0  0.713124  1.403065  0.00  0.11  0.28  0.7600  21.05\n",
       "PS4            392.0  0.801378  1.609456  0.01  0.06  0.20  0.7300  14.63\n",
       "PSV            429.0  0.125431  0.212341  0.01  0.02  0.05  0.1300   1.96\n",
       "Wii           1286.0  0.692986  3.165022  0.01  0.09  0.19  0.4875  82.54\n",
       "WiiU           147.0  0.559116  1.058836  0.01  0.08  0.22  0.5250   7.09\n",
       "X360          1214.0  0.785000  1.642714  0.01  0.11  0.28  0.7775  21.82\n",
       "XOne           247.0  0.645020  1.036139  0.01  0.06  0.22  0.6850   7.39"
      ]
     },
     "execution_count": 28,
     "metadata": {},
     "output_type": "execute_result"
    }
   ],
   "source": [
    "actual_sales[['platform','total_sales']].groupby('platform').describe()"
   ]
  },
  {
   "cell_type": "markdown",
   "metadata": {},
   "source": [
    "Исходя из диаграммы размаха и свода статистик, можно определить что в отрасли есть лидеры - PS3, X360, Wii и PC. При этом по средним продажам на игру лидирует PS4"
   ]
  },
  {
   "cell_type": "code",
   "execution_count": 29,
   "metadata": {},
   "outputs": [
    {
     "name": "stderr",
     "output_type": "stream",
     "text": [
      "/opt/conda/lib/python3.7/site-packages/numpy/lib/histograms.py:839: RuntimeWarning: invalid value encountered in greater_equal\n",
      "  keep = (tmp_a >= first_edge)\n",
      "/opt/conda/lib/python3.7/site-packages/numpy/lib/histograms.py:840: RuntimeWarning: invalid value encountered in less_equal\n",
      "  keep &= (tmp_a <= last_edge)\n"
     ]
    },
    {
     "data": {
      "text/plain": [
       "<seaborn.axisgrid.PairGrid at 0x7fb41a4c9b90>"
      ]
     },
     "execution_count": 29,
     "metadata": {},
     "output_type": "execute_result"
    },
    {
     "data": {
      "image/png": "[encoded data removed]",
      "text/plain": [
       "<Figure size 540x540 with 12 Axes>"
      ]
     },
     "metadata": {
      "needs_background": "light"
     },
     "output_type": "display_data"
    }
   ],
   "source": [
    "# посмотрим в рамках платформы Wii как на продажи влияют отзывы\n",
    "\n",
    "wii = actual_sales.query('platform == \"Wii\"')[['critic_score','user_score', 'total_sales']]\n",
    "sns.pairplot(wii)"
   ]
  },
  {
   "cell_type": "code",
   "execution_count": 30,
   "metadata": {},
   "outputs": [
    {
     "data": {
      "text/html": [
       "<div>\n",
       "<style scoped>\n",
       "    .dataframe tbody tr th:only-of-type {\n",
       "        vertical-align: middle;\n",
       "    }\n",
       "\n",
       "    .dataframe tbody tr th {\n",
       "        vertical-align: top;\n",
       "    }\n",
       "\n",
       "    .dataframe thead th {\n",
       "        text-align: right;\n",
       "    }\n",
       "</style>\n",
       "<table border=\"1\" class=\"dataframe\">\n",
       "  <thead>\n",
       "    <tr style=\"text-align: right;\">\n",
       "      <th></th>\n",
       "      <th>critic_score</th>\n",
       "      <th>user_score</th>\n",
       "      <th>total_sales</th>\n",
       "    </tr>\n",
       "  </thead>\n",
       "  <tbody>\n",
       "    <tr>\n",
       "      <td>critic_score</td>\n",
       "      <td>1.000000</td>\n",
       "      <td>0.688285</td>\n",
       "      <td>0.177907</td>\n",
       "    </tr>\n",
       "    <tr>\n",
       "      <td>user_score</td>\n",
       "      <td>0.688285</td>\n",
       "      <td>1.000000</td>\n",
       "      <td>0.112831</td>\n",
       "    </tr>\n",
       "    <tr>\n",
       "      <td>total_sales</td>\n",
       "      <td>0.177907</td>\n",
       "      <td>0.112831</td>\n",
       "      <td>1.000000</td>\n",
       "    </tr>\n",
       "  </tbody>\n",
       "</table>\n",
       "</div>"
      ],
      "text/plain": [
       "              critic_score  user_score  total_sales\n",
       "critic_score      1.000000    0.688285     0.177907\n",
       "user_score        0.688285    1.000000     0.112831\n",
       "total_sales       0.177907    0.112831     1.000000"
      ]
     },
     "execution_count": 30,
     "metadata": {},
     "output_type": "execute_result"
    }
   ],
   "source": [
    "#корреляция для Wii\n",
    "wii.corr()"
   ]
  },
  {
   "cell_type": "markdown",
   "metadata": {},
   "source": [
    "судя по всему, есть достатоно высокая корреляция между оценками критиков и пользователей, при этом корреляция между продажами и оценками очень низкая, либо она не линейная."
   ]
  },
  {
   "cell_type": "code",
   "execution_count": 31,
   "metadata": {},
   "outputs": [
    {
     "name": "stdout",
     "output_type": "stream",
     "text": [
      "------------------------Wii--------------------------\n",
      "              critic_score  user_score  total_sales\n",
      "critic_score      1.000000    0.688285     0.177907\n",
      "user_score        0.688285    1.000000     0.112831\n",
      "total_sales       0.177907    0.112831     1.000000\n",
      "------------------------X360--------------------------\n",
      "              critic_score  user_score  total_sales\n",
      "critic_score      1.000000    0.622629     0.396307\n",
      "user_score        0.622629    1.000000     0.115762\n",
      "total_sales       0.396307    0.115762     1.000000\n",
      "------------------------PS3--------------------------\n",
      "              critic_score  user_score  total_sales\n",
      "critic_score      1.000000    0.631154     0.432759\n",
      "user_score        0.631154    1.000000     0.128416\n",
      "total_sales       0.432759    0.128416     1.000000\n",
      "------------------------PS4--------------------------\n",
      "              critic_score  user_score  total_sales\n",
      "critic_score      1.000000    0.557654     0.406568\n",
      "user_score        0.557654    1.000000    -0.031957\n",
      "total_sales       0.406568   -0.031957     1.000000\n",
      "------------------------3DS--------------------------\n",
      "              critic_score  user_score  total_sales\n",
      "critic_score      1.000000    0.745222     0.348740\n",
      "user_score        0.745222    1.000000     0.222078\n",
      "total_sales       0.348740    0.222078     1.000000\n",
      "------------------------PC--------------------------\n",
      "              critic_score  user_score  total_sales\n",
      "critic_score      1.000000    0.521036     0.286919\n",
      "user_score        0.521036    1.000000    -0.020556\n",
      "total_sales       0.286919   -0.020556     1.000000\n",
      "------------------------XOne--------------------------\n",
      "              critic_score  user_score  total_sales\n",
      "critic_score      1.000000    0.472462     0.416998\n",
      "user_score        0.472462    1.000000    -0.068925\n",
      "total_sales       0.416998   -0.068925     1.000000\n",
      "------------------------WiiU--------------------------\n",
      "              critic_score  user_score  total_sales\n",
      "critic_score       1.00000    0.770080     0.348380\n",
      "user_score         0.77008    1.000000     0.400219\n",
      "total_sales        0.34838    0.400219     1.000000\n",
      "------------------------PSV--------------------------\n",
      "              critic_score  user_score  total_sales\n",
      "critic_score      1.000000    0.734300     0.131763\n",
      "user_score        0.734300    1.000000     0.013489\n",
      "total_sales       0.131763    0.013489     1.000000\n"
     ]
    }
   ],
   "source": [
    "# посмотрим корреляции для других платформ:\n",
    "platforms = actual_sales['platform'].unique()\n",
    "for plt in platforms:\n",
    "    print('------------------------{}--------------------------'.format(plt))\n",
    "    print(actual_sales.query('platform == @plt')[['critic_score','user_score', 'total_sales']].corr())"
   ]
  },
  {
   "cell_type": "markdown",
   "metadata": {},
   "source": [
    "Похоже, что ситуация с платфорной Wii не типична для других платформ, например корреляция между оценками критиков и продажами на PS3, PS4, X360, XOne имеют более высокую зависимость, при этом всё равно нельзя назвать её сильной."
   ]
  },
  {
   "cell_type": "code",
   "execution_count": 32,
   "metadata": {},
   "outputs": [
    {
     "data": {
      "text/html": [
       "<div>\n",
       "<style scoped>\n",
       "    .dataframe tbody tr th:only-of-type {\n",
       "        vertical-align: middle;\n",
       "    }\n",
       "\n",
       "    .dataframe tbody tr th {\n",
       "        vertical-align: top;\n",
       "    }\n",
       "\n",
       "    .dataframe thead th {\n",
       "        text-align: right;\n",
       "    }\n",
       "</style>\n",
       "<table border=\"1\" class=\"dataframe\">\n",
       "  <thead>\n",
       "    <tr style=\"text-align: right;\">\n",
       "      <th></th>\n",
       "      <th>sum</th>\n",
       "      <th>count</th>\n",
       "      <th>mean</th>\n",
       "    </tr>\n",
       "    <tr>\n",
       "      <th>genre</th>\n",
       "      <th></th>\n",
       "      <th></th>\n",
       "      <th></th>\n",
       "    </tr>\n",
       "  </thead>\n",
       "  <tbody>\n",
       "    <tr>\n",
       "      <td>Shooter</td>\n",
       "      <td>681.11</td>\n",
       "      <td>627</td>\n",
       "      <td>1.086300</td>\n",
       "    </tr>\n",
       "    <tr>\n",
       "      <td>Platform</td>\n",
       "      <td>195.15</td>\n",
       "      <td>199</td>\n",
       "      <td>0.980653</td>\n",
       "    </tr>\n",
       "    <tr>\n",
       "      <td>Sports</td>\n",
       "      <td>659.43</td>\n",
       "      <td>855</td>\n",
       "      <td>0.771263</td>\n",
       "    </tr>\n",
       "    <tr>\n",
       "      <td>Racing</td>\n",
       "      <td>243.98</td>\n",
       "      <td>392</td>\n",
       "      <td>0.622398</td>\n",
       "    </tr>\n",
       "    <tr>\n",
       "      <td>Role-Playing</td>\n",
       "      <td>335.03</td>\n",
       "      <td>556</td>\n",
       "      <td>0.602572</td>\n",
       "    </tr>\n",
       "    <tr>\n",
       "      <td>Misc</td>\n",
       "      <td>391.11</td>\n",
       "      <td>674</td>\n",
       "      <td>0.580282</td>\n",
       "    </tr>\n",
       "    <tr>\n",
       "      <td>Fighting</td>\n",
       "      <td>142.01</td>\n",
       "      <td>245</td>\n",
       "      <td>0.579633</td>\n",
       "    </tr>\n",
       "    <tr>\n",
       "      <td>Action</td>\n",
       "      <td>892.38</td>\n",
       "      <td>1691</td>\n",
       "      <td>0.527723</td>\n",
       "    </tr>\n",
       "    <tr>\n",
       "      <td>Simulation</td>\n",
       "      <td>117.15</td>\n",
       "      <td>283</td>\n",
       "      <td>0.413958</td>\n",
       "    </tr>\n",
       "    <tr>\n",
       "      <td>Puzzle</td>\n",
       "      <td>24.47</td>\n",
       "      <td>115</td>\n",
       "      <td>0.212783</td>\n",
       "    </tr>\n",
       "    <tr>\n",
       "      <td>Strategy</td>\n",
       "      <td>47.74</td>\n",
       "      <td>238</td>\n",
       "      <td>0.200588</td>\n",
       "    </tr>\n",
       "    <tr>\n",
       "      <td>Adventure</td>\n",
       "      <td>76.64</td>\n",
       "      <td>434</td>\n",
       "      <td>0.176590</td>\n",
       "    </tr>\n",
       "  </tbody>\n",
       "</table>\n",
       "</div>"
      ],
      "text/plain": [
       "                 sum  count      mean\n",
       "genre                                \n",
       "Shooter       681.11    627  1.086300\n",
       "Platform      195.15    199  0.980653\n",
       "Sports        659.43    855  0.771263\n",
       "Racing        243.98    392  0.622398\n",
       "Role-Playing  335.03    556  0.602572\n",
       "Misc          391.11    674  0.580282\n",
       "Fighting      142.01    245  0.579633\n",
       "Action        892.38   1691  0.527723\n",
       "Simulation    117.15    283  0.413958\n",
       "Puzzle         24.47    115  0.212783\n",
       "Strategy       47.74    238  0.200588\n",
       "Adventure      76.64    434  0.176590"
      ]
     },
     "execution_count": 32,
     "metadata": {},
     "output_type": "execute_result"
    }
   ],
   "source": [
    "actual_sales.groupby('genre')['total_sales'].aggregate(['sum','count','mean']).sort_values('mean',ascending = False)"
   ]
  },
  {
   "cell_type": "markdown",
   "metadata": {},
   "source": [
    "Несмотря на то, что жанр Action имеет суммарно самые большие продажи, на одну игру в среднем приходится 527 тыс копий. В то же время, можно выделить Shooter, при больших объёмах продаж, средние продажи на одну игру превышают миллион копий. \n",
    "Среди непопулярных жанров можно выделить Puzzle, Strategy и Adventure. При том что выпускается достаточно бльшое количество игр в жанре Adventure, продажи их низки, что приносит в среднем 177 тыс копий на одну игру."
   ]
  },
  {
   "cell_type": "markdown",
   "metadata": {},
   "source": [
    "#### Шаг 4. Составим портрет пользователя каждого региона\n",
    "Определим для пользователя каждого региона (NA, EU, JP):\n",
    "* Самые популярные платформы (топ-5).\n",
    "* Самые популярные жанры (топ-5)."
   ]
  },
  {
   "cell_type": "code",
   "execution_count": 33,
   "metadata": {},
   "outputs": [
    {
     "name": "stdout",
     "output_type": "stream",
     "text": [
      "---------------------na_sales---------------------\n",
      "platform\n",
      "X360    588.84\n",
      "Wii     486.87\n",
      "PS3     390.13\n",
      "PS4     108.74\n",
      "XOne     93.12\n",
      "Name: na_sales, dtype: float64\n",
      "доля от общих продаж региона:\n",
      "platform\n",
      "X360    31.909048\n",
      "Wii     26.383327\n",
      "PS3     21.141018\n",
      "PS4      5.892585\n",
      "XOne     5.046143\n",
      "Name: na_sales, dtype: float64\n",
      "---------------------eu_sales---------------------\n",
      "platform\n",
      "PS3     327.21\n",
      "X360    267.89\n",
      "Wii     258.32\n",
      "PS4     141.09\n",
      "PC      100.32\n",
      "Name: eu_sales, dtype: float64\n",
      "доля от общих продаж региона:\n",
      "platform\n",
      "PS3     26.263153\n",
      "X360    21.501898\n",
      "Wii     20.733773\n",
      "PS4     11.324435\n",
      "PC       8.052075\n",
      "Name: eu_sales, dtype: float64\n",
      "---------------------jp_sales---------------------\n",
      "platform\n",
      "3DS    100.62\n",
      "PS3     79.41\n",
      "Wii     68.28\n",
      "PSV     21.84\n",
      "PS4     15.96\n",
      "Name: jp_sales, dtype: float64\n",
      "доля от общих продаж региона:\n",
      "platform\n",
      "3DS    32.303840\n",
      "PS3    25.494414\n",
      "Wii    21.921151\n",
      "PSV     7.011686\n",
      "PS4     5.123924\n",
      "Name: jp_sales, dtype: float64\n"
     ]
    }
   ],
   "source": [
    "# посмотрим на ТОП продаж платформ по регионам:\n",
    "\n",
    "regions = ['na_sales', 'eu_sales', 'jp_sales']\n",
    "\n",
    "\n",
    "for region in regions:\n",
    "    total_sales = actual_sales[region].sum()\n",
    "    print('---------------------{0}---------------------'.format(region,))\n",
    "    result = actual_sales[['platform', region]].groupby('platform')[region].sum().sort_values(ascending = False).head()\n",
    "    print(result)\n",
    "    print( 'доля от общих продаж региона:' )\n",
    "    print(result/total_sales*100)"
   ]
  },
  {
   "cell_type": "markdown",
   "metadata": {},
   "source": [
    "Японский рынок существенно отличается от европейского и американского. 3DS тут на первом месте, в то время как в америке и европе не входит в топ. В Японии не входит в топ X360, в то время как в европе и США занимает первое и второе место"
   ]
  },
  {
   "cell_type": "code",
   "execution_count": 34,
   "metadata": {},
   "outputs": [
    {
     "name": "stdout",
     "output_type": "stream",
     "text": [
      "---------------------na_sales---------------------\n",
      "genre\n",
      "Action          416.89\n",
      "Shooter         352.17\n",
      "Sports          336.40\n",
      "Misc            217.19\n",
      "Role-Playing    138.50\n",
      "Name: na_sales, dtype: float64\n",
      "---------------------eu_sales---------------------\n",
      "genre\n",
      "Action     300.70\n",
      "Shooter    231.99\n",
      "Sports     222.21\n",
      "Misc       111.41\n",
      "Racing      99.31\n",
      "Name: eu_sales, dtype: float64\n",
      "---------------------jp_sales---------------------\n",
      "genre\n",
      "Role-Playing    79.22\n",
      "Action          73.01\n",
      "Sports          31.14\n",
      "Misc            26.26\n",
      "Platform        22.58\n",
      "Name: jp_sales, dtype: float64\n"
     ]
    }
   ],
   "source": [
    "# посмотрим, какие предпочтения у игроков в зависимости от региона\n",
    "for region in regions:\n",
    "    print('---------------------{}---------------------'.format(region))\n",
    "    print(actual_sales[['genre', region]].groupby('genre')[region].sum().sort_values(ascending = False).head())"
   ]
  },
  {
   "cell_type": "markdown",
   "metadata": {},
   "source": [
    "Снова США и Европа схожи во вкусах, за исключением последней строки, в японии на первое место выходит РПГ, при этом шутеров в списке нет.\n",
    "Нелюбовь к шутерам возможно можно объяснить непопулярностью платформы X, на которой выходит много игр этого жанра. А любовь к РПГ (скорее всего это ММОРПГ) возможно связана с одиночеством японцев, и в ММОРПГ они не чувствуют себя одиноко."
   ]
  },
  {
   "cell_type": "code",
   "execution_count": 35,
   "metadata": {},
   "outputs": [
    {
     "data": {
      "text/plain": [
       "platform\n",
       "X360    194\n",
       "PS3     155\n",
       "PC      117\n",
       "Wii      61\n",
       "PS4      41\n",
       "XOne     38\n",
       "WiiU     10\n",
       "3DS       6\n",
       "PSV       5\n",
       "Name: genre, dtype: int64"
      ]
     },
     "execution_count": 35,
     "metadata": {},
     "output_type": "execute_result"
    }
   ],
   "source": [
    "actual_sales.query('genre == \"Shooter\"').groupby('platform').count().genre.sort_values(ascending = False)"
   ]
  },
  {
   "cell_type": "code",
   "execution_count": 36,
   "metadata": {},
   "outputs": [
    {
     "data": {
      "text/plain": [
       "platform\n",
       "PS3     117\n",
       "3DS      87\n",
       "PSV      85\n",
       "PC       85\n",
       "X360     75\n",
       "PS4      51\n",
       "Wii      35\n",
       "XOne     14\n",
       "WiiU      7\n",
       "Name: genre, dtype: int64"
      ]
     },
     "execution_count": 36,
     "metadata": {},
     "output_type": "execute_result"
    }
   ],
   "source": [
    "actual_sales.query('genre == \"Role-Playing\"').groupby('platform').count().genre.sort_values(ascending = False)"
   ]
  },
  {
   "cell_type": "markdown",
   "metadata": {},
   "source": [
    "Гипотеза подтвердилась отчасти. Да, больше всего шутеров выходит на X360, но не мало и на PS3, которая занимает 2 строчку в Японии. В то же время, RPG больше всего выходит на PS3 и 3DS, которые в Японии занимают первые 2 места.\n",
    "\n",
    "Но, возможно, нелюбовь к шутерам в пользу RPG это просто культурные особенности."
   ]
  },
  {
   "cell_type": "code",
   "execution_count": 37,
   "metadata": {},
   "outputs": [
    {
     "name": "stdout",
     "output_type": "stream",
     "text": [
      "---------------------na_sales---------------------\n",
      "rating\n",
      "M       550.12\n",
      "E       542.20\n",
      "T       340.66\n",
      "E10+    230.87\n",
      "EC        0.71\n",
      "Name: na_sales, dtype: float64\n",
      "---------------------eu_sales---------------------\n",
      "rating\n",
      "M       387.46\n",
      "E       353.24\n",
      "T       205.32\n",
      "E10+    134.02\n",
      "RP        0.03\n",
      "Name: eu_sales, dtype: float64\n",
      "---------------------jp_sales---------------------\n",
      "rating\n",
      "E       78.81\n",
      "T       53.38\n",
      "M       39.63\n",
      "E10+    13.58\n",
      "RP       0.00\n",
      "Name: jp_sales, dtype: float64\n"
     ]
    }
   ],
   "source": [
    "# посомтрим как на регоинальных продажах сказывается рейтинг\n",
    "for region in regions:\n",
    "    print('---------------------{}---------------------'.format(region))\n",
    "    print(actual_sales[['rating', region]].groupby('rating')[region].sum().sort_values(ascending = False).head())"
   ]
  },
  {
   "cell_type": "markdown",
   "metadata": {},
   "source": [
    "Распространённость рейтингов в принципе соответствует распространению жанров по регионам, популярным в США и Европе шутерам, скорее всего присвоен рейтинг М, а вот популярным RPG в Японии вероятнее всего рейтинг E."
   ]
  },
  {
   "cell_type": "markdown",
   "metadata": {},
   "source": [
    "#### Шаг 5. Проверим гипотезы\n",
    "* Средние пользовательские рейтинги платформ Xbox One и PC одинаковые;\n",
    "* Средние пользовательские рейтинги жанров Action и Sports  разные."
   ]
  },
  {
   "cell_type": "code",
   "execution_count": 38,
   "metadata": {},
   "outputs": [
    {
     "name": "stdout",
     "output_type": "stream",
     "text": [
      "p-значение: 0.014354742043413306\n",
      "Отвергаем нулевую гипотезу\n"
     ]
    }
   ],
   "source": [
    "#проверим гипотезу о схожести рейтингов для платформ Xbox One и PC\n",
    "# гипотеза 0 - рейтинги одинаковые. H₀ всегда формулируется так, чтобы использовать знак равенства. \n",
    "# альтернативная гипотеза - рейтинги различаются\n",
    "# уровень статистической значимости выберем равным 5%\n",
    "# Чтобы проверить гипотезу о равенстве среднего двух генеральных совокупностей по взятым из них выборкам,\n",
    "# применим метод scipy.stats.ttest_ind\n",
    "\n",
    "wo_nan_actual_sales = actual_sales.dropna(subset=['user_score'])\n",
    "\n",
    "xone = wo_nan_actual_sales.query('platform == \"XOne\"')['user_score']\n",
    "pc = wo_nan_actual_sales.query('platform == \"PC\" ')['user_score']\n",
    "alpha = .05\n",
    "\n",
    "results = st.ttest_ind(xone,pc)\n",
    "\n",
    "print('p-значение:', results.pvalue)\n",
    "\n",
    "if (results.pvalue < alpha):\n",
    "    print(\"Отвергаем нулевую гипотезу\")\n",
    "else:\n",
    "    print(\"Не получилось отвергнуть нулевую гипотезу\")"
   ]
  },
  {
   "cell_type": "code",
   "execution_count": 39,
   "metadata": {},
   "outputs": [
    {
     "data": {
      "text/plain": [
       "6.521428571428572"
      ]
     },
     "execution_count": 39,
     "metadata": {},
     "output_type": "execute_result"
    }
   ],
   "source": [
    "wo_nan_actual_sales.query('platform == \"XOne\"')['user_score'].mean()"
   ]
  },
  {
   "cell_type": "code",
   "execution_count": 40,
   "metadata": {},
   "outputs": [
    {
     "data": {
      "text/plain": [
       "6.830081300813008"
      ]
     },
     "execution_count": 40,
     "metadata": {},
     "output_type": "execute_result"
    }
   ],
   "source": [
    "wo_nan_actual_sales.query('platform == \"PC\" ')['user_score'].mean()"
   ]
  },
  {
   "cell_type": "markdown",
   "metadata": {},
   "source": [
    "Судя по всему, пользователи ставят разные оценки в зависимости от платформы, и для PC они в среднем выше."
   ]
  },
  {
   "cell_type": "code",
   "execution_count": 41,
   "metadata": {},
   "outputs": [
    {
     "name": "stdout",
     "output_type": "stream",
     "text": [
      "p-значение: 1.9769797369248167e-16\n",
      "Отвергаем нулевую гипотезу\n"
     ]
    }
   ],
   "source": [
    "# теперь проверим гипотезу о том,\n",
    "# что пользовательские рейтинги жанров Action (англ. «действие») и Sports (англ. «виды спорта») разные\n",
    "# H0 - рейтинги равны\n",
    "# H1 - рейтинги разные\n",
    "# alpha = 5%\n",
    "\n",
    "\n",
    "action = wo_nan_actual_sales.query('genre == \"Action\"')['user_score']\n",
    "sports = wo_nan_actual_sales.query('genre == \"Sports\" ')['user_score']\n",
    "alpha = .05\n",
    "\n",
    "results = st.ttest_ind(action,sports)\n",
    "\n",
    "print('p-значение:', results.pvalue)\n",
    "\n",
    "if (results.pvalue < alpha):\n",
    "    print(\"Отвергаем нулевую гипотезу\")\n",
    "else:\n",
    "    print(\"Не получилось отвергнуть нулевую гипотезу\")"
   ]
  },
  {
   "cell_type": "code",
   "execution_count": 42,
   "metadata": {},
   "outputs": [
    {
     "data": {
      "text/plain": [
       "6.854730983302413"
      ]
     },
     "execution_count": 42,
     "metadata": {},
     "output_type": "execute_result"
    }
   ],
   "source": [
    "wo_nan_actual_sales.query('genre == \"Action\"')['user_score'].mean()"
   ]
  },
  {
   "cell_type": "code",
   "execution_count": 43,
   "metadata": {},
   "outputs": [
    {
     "data": {
      "text/plain": [
       "6.210666666666667"
      ]
     },
     "execution_count": 43,
     "metadata": {},
     "output_type": "execute_result"
    }
   ],
   "source": [
    "wo_nan_actual_sales.query('genre == \"Sports\" ')['user_score'].mean()"
   ]
  },
  {
   "cell_type": "markdown",
   "metadata": {},
   "source": [
    "Похоже что оценки пользователей жанра Action не равны оценкам жанра Sports. Средняя говорит о том, что жанр Action оценивают выше."
   ]
  },
  {
   "cell_type": "markdown",
   "metadata": {},
   "source": [
    "#### Шаг 6. Общий вывод"
   ]
  },
  {
   "cell_type": "markdown",
   "metadata": {},
   "source": [
    "Подводя итог можно сделать следующие выводы для продвижения продуктов на 2017 год:\n",
    "* В последние годы набирают популярность новые платформы  PS4, XOne.\n",
    "* Исходя из актуальных продаж популярных платформ, можно определить что в отрасли есть лидеры - PS3, X360, Wii и PC. При этом, по средним продажам на игру, лидирует PS4.\n",
    "* Как оказалось, оценки критиков влияют по-разному на продажи на разных платформах, при этом корреляция всё равно достаточно низкая. Тут в рекламной компании можно было бы попробовать акцентировать внимание на оценках платформ Xbox и PS новый и старых поколений.\n",
    "* ТОП 5 жанров по которым приходится больше всего продаж на одну игру: Shooter, Platform, Sports, Racing, Role-Playing.\n",
    "* Игроки рынка Европы и Северной Америки между собой похожи, они любят платформы PS3, X360, Wii а среди жанров Экшн, Шутеры и Спорт. Для японского же рынка следует сосредоточится на RPG, для консолей: 3DS, PS3,  Wii.\n",
    "* Стоит отметить, что игроки разных платформ могут оценивать игры по-разному. Справедливо, что и оценки жанров не схожи между собой."
   ]
  },
  {
   "cell_type": "code",
   "execution_count": null,
   "metadata": {},
   "outputs": [],
   "source": []
  }
 ],
 "metadata": {
  "kernelspec": {
   "display_name": "Python 3",
   "language": "python",
   "name": "python3"
  },
  "language_info": {
   "codemirror_mode": {
    "name": "ipython",
    "version": 3
   },
   "file_extension": ".py",
   "mimetype": "text/x-python",
   "name": "python",
   "nbconvert_exporter": "python",
   "pygments_lexer": "ipython3",
   "version": "3.7.6"
  }
 },
 "nbformat": 4,
 "nbformat_minor": 2
}
